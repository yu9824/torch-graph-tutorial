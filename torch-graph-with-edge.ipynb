{
 "cells": [
  {
   "cell_type": "code",
   "execution_count": 1,
   "metadata": {},
   "outputs": [
    {
     "name": "stdout",
     "output_type": "stream",
     "text": [
      "8\n"
     ]
    }
   ],
   "source": [
    "import os\n",
    "\n",
    "# to avoid the following error when using MPS (GPU in ARM architecture)):\n",
    "# NotImplementedError: The operator 'aten::scatter_reduce.two_out'\n",
    "# is not currently implemented for the MPS device. If you want\n",
    "# this op to be added in priority during the prototype phase of\n",
    "# this feature, please comment on\n",
    "# https://github.com/pytorch/pytorch/issues/77764.\n",
    "# As a temporary fix, you can set the environment variable\n",
    "# `PYTORCH_ENABLE_MPS_FALLBACK=1` to use the CPU as\n",
    "# a fallback for this op.\n",
    "# WARNING: this will be slower than running natively on MPS.\n",
    "os.environ[\"PYTORCH_ENABLE_MPS_FALLBACK\"] = \"1\"  # before importing torch\n",
    "\n",
    "print(os.cpu_count())\n"
   ]
  },
  {
   "cell_type": "markdown",
   "metadata": {},
   "source": [
    "\\# TODO\n",
    "\n",
    "- <s>BatchNormalization?</s>\n",
    "- ハイパーパラメータチューニング (optuna?)\n",
    "- <s>モデルの解釈 (tanhやpoolingについて)</s>\n",
    "  - tanh: 活性化関数\n",
    "  - pooling: すべての原子の情報を統合する。原子数が異なるためそれらを揃える役割も。\n",
    "- <s>dropoutの導入？←過学習対策</s>\n",
    "- autumentation?\n",
    "- モデルの途中保存 (エポック毎?)\n",
    "- エッジの重みも学習する (`nn.Parameter`?)\n",
    "- early-stopping\n",
    "- max-poolingの検討\n",
    "- 転移学習 (fine-tuning and feature-extraction)\n",
    "- [GIN層](https://pytorch-geometric.readthedocs.io/en/latest/generated/torch_geometric.nn.conv.GINConv.html#torch_geometric.nn.conv.GINConv)を試してみる"
   ]
  },
  {
   "cell_type": "code",
   "execution_count": 2,
   "metadata": {},
   "outputs": [],
   "source": [
    "import numpy as np\n",
    "import pandas as pd\n",
    "import rdkit\n",
    "from rdkit import Chem\n",
    "from rdkit.Chem import Descriptors\n",
    "from sklearn.model_selection import train_test_split\n",
    "from sklearn.ensemble import RandomForestRegressor\n",
    "\n",
    "import torch\n",
    "import torch_geometric\n",
    "import torch_geometric.nn\n",
    "import torch_geometric.data\n",
    "import torch_geometric.loader\n",
    "\n",
    "from torch_utils.data import GraphDataset\n",
    "from torch_utils.model import GCN, GNN\n",
    "from torch_utils.torch_utils import (\n",
    "    fit,\n",
    "    evaluate_history,\n",
    "    torch_seed,\n",
    "    EarlyStopping,\n",
    ")\n",
    "from torch_utils.utils import yyplot, check_tqdm\n"
   ]
  },
  {
   "cell_type": "code",
   "execution_count": 3,
   "metadata": {},
   "outputs": [
    {
     "data": {
      "text/plain": [
       "'2.1.0'"
      ]
     },
     "execution_count": 3,
     "metadata": {},
     "output_type": "execute_result"
    }
   ],
   "source": [
    "torch.__version__\n"
   ]
  },
  {
   "cell_type": "code",
   "execution_count": 4,
   "metadata": {},
   "outputs": [
    {
     "data": {
      "text/plain": [
       "'2.4.0'"
      ]
     },
     "execution_count": 4,
     "metadata": {},
     "output_type": "execute_result"
    }
   ],
   "source": [
    "torch_geometric.__version__\n"
   ]
  },
  {
   "cell_type": "code",
   "execution_count": 5,
   "metadata": {},
   "outputs": [
    {
     "data": {
      "text/plain": [
       "'2023.09.1'"
      ]
     },
     "execution_count": 5,
     "metadata": {},
     "output_type": "execute_result"
    }
   ],
   "source": [
    "rdkit.__version__\n"
   ]
  },
  {
   "cell_type": "code",
   "execution_count": 6,
   "metadata": {},
   "outputs": [],
   "source": [
    "seed = 334\n",
    "batch_size = 256\n",
    "\n",
    "torch_seed(seed)\n"
   ]
  },
  {
   "cell_type": "code",
   "execution_count": 7,
   "metadata": {},
   "outputs": [
    {
     "name": "stdout",
     "output_type": "stream",
     "text": [
      "(1290, 197)\n"
     ]
    },
    {
     "data": {
      "text/html": [
       "<div>\n",
       "<style scoped>\n",
       "    .dataframe tbody tr th:only-of-type {\n",
       "        vertical-align: middle;\n",
       "    }\n",
       "\n",
       "    .dataframe tbody tr th {\n",
       "        vertical-align: top;\n",
       "    }\n",
       "\n",
       "    .dataframe thead th {\n",
       "        text-align: right;\n",
       "    }\n",
       "</style>\n",
       "<table border=\"1\" class=\"dataframe\">\n",
       "  <thead>\n",
       "    <tr style=\"text-align: right;\">\n",
       "      <th></th>\n",
       "      <th>logS</th>\n",
       "      <th>MolWt</th>\n",
       "      <th>HeavyAtomMolWt</th>\n",
       "      <th>ExactMolWt</th>\n",
       "      <th>NumValenceElectrons</th>\n",
       "      <th>NumRadicalElectrons</th>\n",
       "      <th>MaxPartialCharge</th>\n",
       "      <th>MinPartialCharge</th>\n",
       "      <th>MaxAbsPartialCharge</th>\n",
       "      <th>MinAbsPartialCharge</th>\n",
       "      <th>...</th>\n",
       "      <th>fr_sulfide</th>\n",
       "      <th>fr_sulfonamd</th>\n",
       "      <th>fr_sulfone</th>\n",
       "      <th>fr_term_acetylene</th>\n",
       "      <th>fr_tetrazole</th>\n",
       "      <th>fr_thiazole</th>\n",
       "      <th>fr_thiocyan</th>\n",
       "      <th>fr_thiophene</th>\n",
       "      <th>fr_unbrch_alkane</th>\n",
       "      <th>fr_urea</th>\n",
       "    </tr>\n",
       "  </thead>\n",
       "  <tbody>\n",
       "    <tr>\n",
       "      <th>CC(N)=O</th>\n",
       "      <td>1.58</td>\n",
       "      <td>59.068</td>\n",
       "      <td>54.028</td>\n",
       "      <td>59.037114</td>\n",
       "      <td>24</td>\n",
       "      <td>0</td>\n",
       "      <td>0.213790</td>\n",
       "      <td>-0.369921</td>\n",
       "      <td>0.369921</td>\n",
       "      <td>0.213790</td>\n",
       "      <td>...</td>\n",
       "      <td>0</td>\n",
       "      <td>0</td>\n",
       "      <td>0</td>\n",
       "      <td>0</td>\n",
       "      <td>0</td>\n",
       "      <td>0</td>\n",
       "      <td>0</td>\n",
       "      <td>0</td>\n",
       "      <td>0</td>\n",
       "      <td>0</td>\n",
       "    </tr>\n",
       "    <tr>\n",
       "      <th>CNN</th>\n",
       "      <td>1.34</td>\n",
       "      <td>46.073</td>\n",
       "      <td>40.025</td>\n",
       "      <td>46.053098</td>\n",
       "      <td>20</td>\n",
       "      <td>0</td>\n",
       "      <td>-0.001725</td>\n",
       "      <td>-0.271722</td>\n",
       "      <td>0.271722</td>\n",
       "      <td>0.001725</td>\n",
       "      <td>...</td>\n",
       "      <td>0</td>\n",
       "      <td>0</td>\n",
       "      <td>0</td>\n",
       "      <td>0</td>\n",
       "      <td>0</td>\n",
       "      <td>0</td>\n",
       "      <td>0</td>\n",
       "      <td>0</td>\n",
       "      <td>0</td>\n",
       "      <td>0</td>\n",
       "    </tr>\n",
       "    <tr>\n",
       "      <th>CC(=O)O</th>\n",
       "      <td>1.22</td>\n",
       "      <td>60.052</td>\n",
       "      <td>56.020</td>\n",
       "      <td>60.021129</td>\n",
       "      <td>24</td>\n",
       "      <td>0</td>\n",
       "      <td>0.299685</td>\n",
       "      <td>-0.481433</td>\n",
       "      <td>0.481433</td>\n",
       "      <td>0.299685</td>\n",
       "      <td>...</td>\n",
       "      <td>0</td>\n",
       "      <td>0</td>\n",
       "      <td>0</td>\n",
       "      <td>0</td>\n",
       "      <td>0</td>\n",
       "      <td>0</td>\n",
       "      <td>0</td>\n",
       "      <td>0</td>\n",
       "      <td>0</td>\n",
       "      <td>0</td>\n",
       "    </tr>\n",
       "    <tr>\n",
       "      <th>C1CCNC1</th>\n",
       "      <td>1.15</td>\n",
       "      <td>71.123</td>\n",
       "      <td>62.051</td>\n",
       "      <td>71.073499</td>\n",
       "      <td>30</td>\n",
       "      <td>0</td>\n",
       "      <td>-0.004845</td>\n",
       "      <td>-0.316731</td>\n",
       "      <td>0.316731</td>\n",
       "      <td>0.004845</td>\n",
       "      <td>...</td>\n",
       "      <td>0</td>\n",
       "      <td>0</td>\n",
       "      <td>0</td>\n",
       "      <td>0</td>\n",
       "      <td>0</td>\n",
       "      <td>0</td>\n",
       "      <td>0</td>\n",
       "      <td>0</td>\n",
       "      <td>0</td>\n",
       "      <td>0</td>\n",
       "    </tr>\n",
       "    <tr>\n",
       "      <th>NC(=O)NO</th>\n",
       "      <td>1.12</td>\n",
       "      <td>76.055</td>\n",
       "      <td>72.023</td>\n",
       "      <td>76.027277</td>\n",
       "      <td>30</td>\n",
       "      <td>0</td>\n",
       "      <td>0.335391</td>\n",
       "      <td>-0.349891</td>\n",
       "      <td>0.349891</td>\n",
       "      <td>0.335391</td>\n",
       "      <td>...</td>\n",
       "      <td>0</td>\n",
       "      <td>0</td>\n",
       "      <td>0</td>\n",
       "      <td>0</td>\n",
       "      <td>0</td>\n",
       "      <td>0</td>\n",
       "      <td>0</td>\n",
       "      <td>0</td>\n",
       "      <td>0</td>\n",
       "      <td>1</td>\n",
       "    </tr>\n",
       "  </tbody>\n",
       "</table>\n",
       "<p>5 rows × 197 columns</p>\n",
       "</div>"
      ],
      "text/plain": [
       "          logS   MolWt  HeavyAtomMolWt  ExactMolWt  NumValenceElectrons  \\\n",
       "CC(N)=O   1.58  59.068          54.028   59.037114                   24   \n",
       "CNN       1.34  46.073          40.025   46.053098                   20   \n",
       "CC(=O)O   1.22  60.052          56.020   60.021129                   24   \n",
       "C1CCNC1   1.15  71.123          62.051   71.073499                   30   \n",
       "NC(=O)NO  1.12  76.055          72.023   76.027277                   30   \n",
       "\n",
       "          NumRadicalElectrons  MaxPartialCharge  MinPartialCharge  \\\n",
       "CC(N)=O                     0          0.213790         -0.369921   \n",
       "CNN                         0         -0.001725         -0.271722   \n",
       "CC(=O)O                     0          0.299685         -0.481433   \n",
       "C1CCNC1                     0         -0.004845         -0.316731   \n",
       "NC(=O)NO                    0          0.335391         -0.349891   \n",
       "\n",
       "          MaxAbsPartialCharge  MinAbsPartialCharge  ...  fr_sulfide  \\\n",
       "CC(N)=O              0.369921             0.213790  ...           0   \n",
       "CNN                  0.271722             0.001725  ...           0   \n",
       "CC(=O)O              0.481433             0.299685  ...           0   \n",
       "C1CCNC1              0.316731             0.004845  ...           0   \n",
       "NC(=O)NO             0.349891             0.335391  ...           0   \n",
       "\n",
       "          fr_sulfonamd  fr_sulfone  fr_term_acetylene  fr_tetrazole  \\\n",
       "CC(N)=O              0           0                  0             0   \n",
       "CNN                  0           0                  0             0   \n",
       "CC(=O)O              0           0                  0             0   \n",
       "C1CCNC1              0           0                  0             0   \n",
       "NC(=O)NO             0           0                  0             0   \n",
       "\n",
       "          fr_thiazole  fr_thiocyan  fr_thiophene  fr_unbrch_alkane  fr_urea  \n",
       "CC(N)=O             0            0             0                 0        0  \n",
       "CNN                 0            0             0                 0        0  \n",
       "CC(=O)O             0            0             0                 0        0  \n",
       "C1CCNC1             0            0             0                 0        0  \n",
       "NC(=O)NO            0            0             0                 0        1  \n",
       "\n",
       "[5 rows x 197 columns]"
      ]
     },
     "execution_count": 7,
     "metadata": {},
     "output_type": "execute_result"
    }
   ],
   "source": [
    "# df_raw = pd.read_csv(\"./data/curated-solubility-dataset.csv\", index_col=0)\n",
    "df_raw = pd.read_csv(\"./data/logSdataset1290.csv\", index_col=0)\n",
    "# 計算時間短縮\n",
    "# df_raw = df_raw.iloc[:1000]\n",
    "print(df_raw.shape)\n",
    "df_raw.head()\n"
   ]
  },
  {
   "cell_type": "code",
   "execution_count": 8,
   "metadata": {},
   "outputs": [],
   "source": [
    "# smiles = df_raw[\"SMILES\"]\n",
    "# y = df_raw[\"Solubility\"]\n",
    "smiles = df_raw.index\n",
    "y = df_raw[\"logS\"]\n"
   ]
  },
  {
   "cell_type": "code",
   "execution_count": 9,
   "metadata": {},
   "outputs": [],
   "source": [
    "# scaling\n",
    "y_mean = y.mean()\n",
    "y_std = y.std(ddof=1)\n"
   ]
  },
  {
   "cell_type": "code",
   "execution_count": 10,
   "metadata": {},
   "outputs": [],
   "source": [
    "smiles = smiles.tolist()\n",
    "y = torch.Tensor(((y - y_mean) / y_std).tolist()).view(-1, 1)\n"
   ]
  },
  {
   "cell_type": "code",
   "execution_count": 11,
   "metadata": {},
   "outputs": [],
   "source": [
    "mols = map(Chem.MolFromSmiles, smiles)\n"
   ]
  },
  {
   "cell_type": "code",
   "execution_count": 12,
   "metadata": {},
   "outputs": [
    {
     "data": {
      "application/vnd.jupyter.widget-view+json": {
       "model_id": "236febec548243a0a6ecbc71f19d4dd0",
       "version_major": 2,
       "version_minor": 0
      },
      "text/plain": [
       "  0%|          | 0/1290 [00:00<?, ?it/s]"
      ]
     },
     "metadata": {},
     "output_type": "display_data"
    },
    {
     "data": {
      "text/plain": [
       "GraphDataset(size=1290)"
      ]
     },
     "execution_count": 12,
     "metadata": {},
     "output_type": "execute_result"
    }
   ],
   "source": [
    "dataset = GraphDataset(mols, y, use_edges=True, n_jobs=-1)\n",
    "dataset\n"
   ]
  },
  {
   "cell_type": "code",
   "execution_count": 13,
   "metadata": {},
   "outputs": [
    {
     "data": {
      "text/plain": [
       "<torch_geometric.loader.dataloader.DataLoader at 0x1541f7250>"
      ]
     },
     "execution_count": 13,
     "metadata": {},
     "output_type": "execute_result"
    }
   ],
   "source": [
    "# dataloader = torch.utils.data.DataLoader(dataset, batch_size=32, shuffle=True)\n",
    "dataloader = torch_geometric.loader.DataLoader(\n",
    "    dataset, batch_size=batch_size, shuffle=True\n",
    ")\n",
    "# the following is deprecated\n",
    "# dataloader = torch_geometric.data.DataLoader(\n",
    "#     dataset, batch_size=batch_size, shuffle=True\n",
    "# )\n",
    "dataloader\n"
   ]
  },
  {
   "cell_type": "code",
   "execution_count": 14,
   "metadata": {},
   "outputs": [
    {
     "name": "stdout",
     "output_type": "stream",
     "text": [
      "928 104 258\n"
     ]
    }
   ],
   "source": [
    "dataset_train, dataset_test = train_test_split(\n",
    "    dataset, test_size=0.2, random_state=seed\n",
    ")\n",
    "dataset_train, dataset_val = train_test_split(\n",
    "    dataset_train, test_size=0.1, random_state=seed\n",
    ")\n",
    "print(len(dataset_train), len(dataset_val), len(dataset_test))\n"
   ]
  },
  {
   "cell_type": "code",
   "execution_count": 15,
   "metadata": {},
   "outputs": [],
   "source": [
    "dataloader_train = torch_geometric.loader.DataLoader(\n",
    "    dataset_train, batch_size=batch_size, shuffle=True\n",
    ")\n",
    "dataloader_val = torch_geometric.loader.DataLoader(\n",
    "    dataset_val, batch_size=batch_size, shuffle=False\n",
    ")\n",
    "dataloader_test = torch_geometric.loader.DataLoader(\n",
    "    dataset_test, batch_size=batch_size, shuffle=False\n",
    ")\n"
   ]
  },
  {
   "cell_type": "code",
   "execution_count": 16,
   "metadata": {},
   "outputs": [],
   "source": [
    "data = dataset_train[0]\n",
    "num_features = data.x.shape[1]\n"
   ]
  },
  {
   "cell_type": "code",
   "execution_count": 17,
   "metadata": {},
   "outputs": [
    {
     "name": "stdout",
     "output_type": "stream",
     "text": [
      "GNN(\n",
      "  (initial_conv): NNConv(30, 64, aggr=add, nn=Sequential(\n",
      "    (0): Linear(in_features=11, out_features=64, bias=True)\n",
      "    (1): LeakyReLU(negative_slope=0.01)\n",
      "    (2): Linear(in_features=64, out_features=1920, bias=True)\n",
      "  ))\n",
      "  (batch_norm0): BatchNorm(64)\n",
      "  (conv1): NNConv(64, 64, aggr=add, nn=Sequential(\n",
      "    (0): Linear(in_features=11, out_features=64, bias=True)\n",
      "    (1): LeakyReLU(negative_slope=0.01)\n",
      "    (2): Linear(in_features=64, out_features=4096, bias=True)\n",
      "  ))\n",
      "  (batch_norm1): BatchNorm(64)\n",
      "  (conv2): NNConv(64, 64, aggr=add, nn=Sequential(\n",
      "    (0): Linear(in_features=11, out_features=64, bias=True)\n",
      "    (1): LeakyReLU(negative_slope=0.01)\n",
      "    (2): Linear(in_features=64, out_features=4096, bias=True)\n",
      "  ))\n",
      "  (conv3): NNConv(64, 64, aggr=add, nn=Sequential(\n",
      "    (0): Linear(in_features=11, out_features=64, bias=True)\n",
      "    (1): LeakyReLU(negative_slope=0.01)\n",
      "    (2): Linear(in_features=64, out_features=4096, bias=True)\n",
      "  ))\n",
      "  (dropout): Dropout(p=0.05, inplace=False)\n",
      "  (relu): LeakyReLU(negative_slope=0.01)\n",
      "  (fc): Linear(in_features=128, out_features=1, bias=True)\n",
      ")\n"
     ]
    }
   ],
   "source": [
    "# model = GCN(in_channels=num_features, embedding_size=64)\n",
    "model = GNN(in_channels=num_features, embedding_size=64)\n",
    "print(model)\n"
   ]
  },
  {
   "cell_type": "code",
   "execution_count": 18,
   "metadata": {},
   "outputs": [
    {
     "name": "stdout",
     "output_type": "stream",
     "text": [
      "+----------------------------+---------------+----------------+----------+\n",
      "| Layer                      | Input Shape   | Output Shape   | #Param   |\n",
      "|----------------------------+---------------+----------------+----------|\n",
      "| GNN                        | [14, 14]      | [1, 1]         | 941,441  |\n",
      "| ├─(initial_conv)NNConv     |               | [14, 64]       | 127,552  |\n",
      "| ├─(batch_norm0)BatchNorm   | [14, 64]      | [14, 64]       | 128      |\n",
      "| │    └─(module)BatchNorm1d | [14, 64]      | [14, 64]       | 128      |\n",
      "| ├─(conv1)NNConv            |               | [14, 64]       | 271,168  |\n",
      "| ├─(batch_norm1)BatchNorm   | [14, 64]      | [14, 64]       | 128      |\n",
      "| │    └─(module)BatchNorm1d | [14, 64]      | [14, 64]       | 128      |\n",
      "| ├─(conv2)NNConv            |               | [14, 64]       | 271,168  |\n",
      "| ├─(conv3)NNConv            |               | [14, 64]       | 271,168  |\n",
      "| ├─(dropout)Dropout         | [14, 64]      | [14, 64]       | --       |\n",
      "| ├─(relu)LeakyReLU          | [14, 64]      | [14, 64]       | --       |\n",
      "| ├─(fc)Linear               | [1, 128]      | [1, 1]         | 129      |\n",
      "+----------------------------+---------------+----------------+----------+\n"
     ]
    }
   ],
   "source": [
    "# Need 'tabulate' package\n",
    "print(torch_geometric.nn.summary(model, data))\n"
   ]
  },
  {
   "cell_type": "code",
   "execution_count": 19,
   "metadata": {},
   "outputs": [
    {
     "data": {
      "text/plain": [
       "device(type='mps')"
      ]
     },
     "execution_count": 19,
     "metadata": {},
     "output_type": "execute_result"
    }
   ],
   "source": [
    "device = torch.device(\"mps\" if torch.backends.mps.is_available() else \"cpu\")\n",
    "device\n"
   ]
  },
  {
   "cell_type": "code",
   "execution_count": 20,
   "metadata": {},
   "outputs": [
    {
     "data": {
      "application/vnd.jupyter.widget-view+json": {
       "model_id": "bc4e29294f304690853662e3f05fba8c",
       "version_major": 2,
       "version_minor": 0
      },
      "text/plain": [
       "  0%|          | 0/4 [00:00<?, ?it/s]"
      ]
     },
     "metadata": {},
     "output_type": "display_data"
    },
    {
     "name": "stderr",
     "output_type": "stream",
     "text": [
      "/Users/yu9824/miniforge3/envs/torch39/lib/python3.9/site-packages/torch_geometric/utils/scatter.py:94: UserWarning: The operator 'aten::scatter_reduce.two_out' is not currently supported on the MPS backend and will fall back to run on the CPU. This may have performance implications. (Triggered internally at /Users/runner/work/_temp/anaconda/conda-bld/pytorch_1695391825142/work/aten/src/ATen/mps/MPSFallback.mm:13.)\n",
      "  return src.new_zeros(size).scatter_reduce_(\n"
     ]
    },
    {
     "name": "stdout",
     "output_type": "stream",
     "text": [
      "Epoch [1/10], loss: 37.66286 val_loss: 2.53378, \n",
      "Validation loss decreased (inf --> 2.533782).  Saving model ...\n"
     ]
    },
    {
     "data": {
      "application/vnd.jupyter.widget-view+json": {
       "model_id": "599062aebf964abd9b512f45f4148131",
       "version_major": 2,
       "version_minor": 0
      },
      "text/plain": [
       "  0%|          | 0/4 [00:00<?, ?it/s]"
      ]
     },
     "metadata": {},
     "output_type": "display_data"
    },
    {
     "name": "stdout",
     "output_type": "stream",
     "text": [
      "Epoch [2/10], loss: 1.62230 val_loss: 1.61692, \n",
      "Validation loss decreased (2.533782 --> 1.616916).  Saving model ...\n"
     ]
    },
    {
     "data": {
      "application/vnd.jupyter.widget-view+json": {
       "model_id": "2db2549762af417d8d83fd179ccc07dc",
       "version_major": 2,
       "version_minor": 0
      },
      "text/plain": [
       "  0%|          | 0/4 [00:00<?, ?it/s]"
      ]
     },
     "metadata": {},
     "output_type": "display_data"
    },
    {
     "name": "stdout",
     "output_type": "stream",
     "text": [
      "Epoch [3/10], loss: 0.89476 val_loss: 0.99935, \n",
      "Validation loss decreased (1.616916 --> 0.999349).  Saving model ...\n"
     ]
    },
    {
     "data": {
      "application/vnd.jupyter.widget-view+json": {
       "model_id": "1b19496183c549f0bf72670126bcd203",
       "version_major": 2,
       "version_minor": 0
      },
      "text/plain": [
       "  0%|          | 0/4 [00:00<?, ?it/s]"
      ]
     },
     "metadata": {},
     "output_type": "display_data"
    },
    {
     "name": "stdout",
     "output_type": "stream",
     "text": [
      "Epoch [4/10], loss: 0.67627 val_loss: 0.84528, \n",
      "Validation loss decreased (0.999349 --> 0.845281).  Saving model ...\n"
     ]
    },
    {
     "data": {
      "application/vnd.jupyter.widget-view+json": {
       "model_id": "c5869b7f43464348a4798304048d19bb",
       "version_major": 2,
       "version_minor": 0
      },
      "text/plain": [
       "  0%|          | 0/4 [00:00<?, ?it/s]"
      ]
     },
     "metadata": {},
     "output_type": "display_data"
    },
    {
     "name": "stdout",
     "output_type": "stream",
     "text": [
      "Epoch [5/10], loss: 0.54872 val_loss: 0.86785, \n",
      "EarlyStopping counter: 1 out of 5\n"
     ]
    },
    {
     "data": {
      "application/vnd.jupyter.widget-view+json": {
       "model_id": "a5bbf3a237bd4161b3b741a28056420d",
       "version_major": 2,
       "version_minor": 0
      },
      "text/plain": [
       "  0%|          | 0/4 [00:00<?, ?it/s]"
      ]
     },
     "metadata": {},
     "output_type": "display_data"
    },
    {
     "name": "stdout",
     "output_type": "stream",
     "text": [
      "Epoch [6/10], loss: 0.49626 val_loss: 0.65069, \n",
      "Validation loss decreased (0.845281 --> 0.650688).  Saving model ...\n"
     ]
    },
    {
     "data": {
      "application/vnd.jupyter.widget-view+json": {
       "model_id": "a5bc69de976f4985ab232bc51eedc19c",
       "version_major": 2,
       "version_minor": 0
      },
      "text/plain": [
       "  0%|          | 0/4 [00:00<?, ?it/s]"
      ]
     },
     "metadata": {},
     "output_type": "display_data"
    },
    {
     "name": "stdout",
     "output_type": "stream",
     "text": [
      "Epoch [7/10], loss: 0.42774 val_loss: 0.59216, \n",
      "Validation loss decreased (0.650688 --> 0.592160).  Saving model ...\n"
     ]
    },
    {
     "data": {
      "application/vnd.jupyter.widget-view+json": {
       "model_id": "ce8791af6aca4232979716577e187a42",
       "version_major": 2,
       "version_minor": 0
      },
      "text/plain": [
       "  0%|          | 0/4 [00:00<?, ?it/s]"
      ]
     },
     "metadata": {},
     "output_type": "display_data"
    },
    {
     "name": "stdout",
     "output_type": "stream",
     "text": [
      "Epoch [8/10], loss: 0.38882 val_loss: 0.50141, \n",
      "Validation loss decreased (0.592160 --> 0.501414).  Saving model ...\n"
     ]
    },
    {
     "data": {
      "application/vnd.jupyter.widget-view+json": {
       "model_id": "f64f12ff625b43f4ace72d82ccbff362",
       "version_major": 2,
       "version_minor": 0
      },
      "text/plain": [
       "  0%|          | 0/4 [00:00<?, ?it/s]"
      ]
     },
     "metadata": {},
     "output_type": "display_data"
    },
    {
     "name": "stdout",
     "output_type": "stream",
     "text": [
      "Epoch [9/10], loss: 0.35004 val_loss: 0.42832, \n",
      "Validation loss decreased (0.501414 --> 0.428316).  Saving model ...\n"
     ]
    },
    {
     "data": {
      "application/vnd.jupyter.widget-view+json": {
       "model_id": "90d27668f51743c38628735b33698eab",
       "version_major": 2,
       "version_minor": 0
      },
      "text/plain": [
       "  0%|          | 0/4 [00:00<?, ?it/s]"
      ]
     },
     "metadata": {},
     "output_type": "display_data"
    },
    {
     "name": "stdout",
     "output_type": "stream",
     "text": [
      "Epoch [10/10], loss: 0.30906 val_loss: 0.49230, \n",
      "EarlyStopping counter: 1 out of 5\n"
     ]
    }
   ],
   "source": [
    "early_stopping = EarlyStopping(patience=5, verbose=True)\n",
    "\n",
    "history = fit(\n",
    "    model.to(device),\n",
    "    optimizer=torch.optim.Adam(model.parameters(), lr=0.002),\n",
    "    criterion=torch.nn.MSELoss(),\n",
    "    train_loader=dataloader_train,\n",
    "    val_loader=dataloader_val,\n",
    "    num_epochs=10,\n",
    "    # num_epochs=100,\n",
    "    device=device,\n",
    "    early_stopping=early_stopping,\n",
    ")\n"
   ]
  },
  {
   "cell_type": "code",
   "execution_count": 21,
   "metadata": {},
   "outputs": [
    {
     "name": "stdout",
     "output_type": "stream",
     "text": [
      "初期状態: 損失: 2.53378\n",
      "最終状態: 損失: 0.49230\n"
     ]
    },
    {
     "data": {
      "text/plain": [
       "<Axes: title={'center': 'Training and validation loss history'}, xlabel='epoch', ylabel='loss'>"
      ]
     },
     "execution_count": 21,
     "metadata": {},
     "output_type": "execute_result"
    },
    {
     "data": {
      "image/png": "[encoded data removed]",
      "text/plain": [
       "<Figure size 640x480 with 1 Axes>"
      ]
     },
     "metadata": {},
     "output_type": "display_data"
    }
   ],
   "source": [
    "evaluate_history(history)\n"
   ]
  },
  {
   "cell_type": "code",
   "execution_count": 22,
   "metadata": {},
   "outputs": [
    {
     "data": {
      "text/plain": [
       "False"
      ]
     },
     "execution_count": 22,
     "metadata": {},
     "output_type": "execute_result"
    }
   ],
   "source": [
    "model.training\n"
   ]
  },
  {
   "cell_type": "code",
   "execution_count": 23,
   "metadata": {},
   "outputs": [],
   "source": [
    "_tmp_y = []\n",
    "_tmp_y_pred = []\n",
    "for _batchdata_test in dataloader_test:\n",
    "    _tmp_y.append(_batchdata_test.y)\n",
    "    _tmp_y_pred.append(model(_batchdata_test.to(device)))\n"
   ]
  },
  {
   "cell_type": "code",
   "execution_count": 24,
   "metadata": {},
   "outputs": [],
   "source": [
    "y_test_scaled = torch.cat(_tmp_y, dim=0)\n",
    "y_pred_on_test_scaled = torch.cat(_tmp_y_pred, dim=0)\n"
   ]
  },
  {
   "cell_type": "code",
   "execution_count": 25,
   "metadata": {},
   "outputs": [],
   "source": [
    "y_test = y_test_scaled * y_std + y_mean\n",
    "y_pred_on_test = y_pred_on_test_scaled * y_std + y_mean\n"
   ]
  },
  {
   "cell_type": "code",
   "execution_count": 26,
   "metadata": {},
   "outputs": [],
   "source": [
    "_tmp_y = []\n",
    "_tmp_y_pred = []\n",
    "for _batchdata_val in dataloader_val:\n",
    "    _tmp_y.append(_batchdata_val.y)\n",
    "    _tmp_y_pred.append(model(_batchdata_val.to(device)))\n"
   ]
  },
  {
   "cell_type": "code",
   "execution_count": 27,
   "metadata": {},
   "outputs": [],
   "source": [
    "y_val_scaled = torch.cat(_tmp_y, dim=0)\n",
    "y_pred_on_val_scaled = torch.cat(_tmp_y_pred, dim=0)\n"
   ]
  },
  {
   "cell_type": "code",
   "execution_count": 28,
   "metadata": {},
   "outputs": [],
   "source": [
    "y_val = y_val_scaled * y_std + y_mean\n",
    "y_pred_on_val = y_pred_on_val_scaled * y_std + y_mean\n"
   ]
  },
  {
   "cell_type": "code",
   "execution_count": 29,
   "metadata": {},
   "outputs": [],
   "source": [
    "_tmp_y = []\n",
    "_tmp_y_pred = []\n",
    "for _batchdata_train in dataloader_train:\n",
    "    _tmp_y.append(_batchdata_train.y)\n",
    "    _tmp_y_pred.append(model(_batchdata_train.to(device)))\n"
   ]
  },
  {
   "cell_type": "code",
   "execution_count": 30,
   "metadata": {},
   "outputs": [],
   "source": [
    "y_train_scaled = torch.cat(_tmp_y, dim=0)\n",
    "y_pred_on_train_scaled = torch.cat(_tmp_y_pred, dim=0)\n"
   ]
  },
  {
   "cell_type": "code",
   "execution_count": 31,
   "metadata": {},
   "outputs": [],
   "source": [
    "y_train = y_train_scaled * y_std + y_mean\n",
    "y_pred_on_train = y_pred_on_train_scaled * y_std + y_mean\n"
   ]
  },
  {
   "cell_type": "code",
   "execution_count": 32,
   "metadata": {},
   "outputs": [
    {
     "data": {
      "image/png": "[encoded data removed]",
      "text/plain": [
       "<Figure size 640x480 with 1 Axes>"
      ]
     },
     "metadata": {},
     "output_type": "display_data"
    }
   ],
   "source": [
    "ax = yyplot(\n",
    "    y_train.cpu().detach().numpy(),\n",
    "    y_pred_on_train.cpu().detach().numpy(),\n",
    "    y_val.cpu().detach().numpy(),\n",
    "    y_pred_on_val.cpu().detach().numpy(),\n",
    "    y_test.cpu().detach().numpy(),\n",
    "    y_pred_on_test.cpu().detach().numpy(),\n",
    ")\n",
    "ax.figure.tight_layout()\n"
   ]
  }
 ],
 "metadata": {
  "kernelspec": {
   "display_name": "pytorch39",
   "language": "python",
   "name": "python3"
  },
  "language_info": {
   "codemirror_mode": {
    "name": "ipython",
    "version": 3
   },
   "file_extension": ".py",
   "mimetype": "text/x-python",
   "name": "python",
   "nbconvert_exporter": "python",
   "pygments_lexer": "ipython3",
   "version": "3.9.18"
  }
 },
 "nbformat": 4,
 "nbformat_minor": 2
}

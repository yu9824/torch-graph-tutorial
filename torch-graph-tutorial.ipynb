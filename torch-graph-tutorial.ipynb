{
 "cells": [
  {
   "cell_type": "code",
   "execution_count": 1,
   "metadata": {},
   "outputs": [
    {
     "name": "stdout",
     "output_type": "stream",
     "text": [
      "8\n"
     ]
    }
   ],
   "source": [
    "import os\n",
    "\n",
    "# to avoid the following error when using MPS (GPU in ARM architecture)):\n",
    "# NotImplementedError: The operator 'aten::scatter_reduce.two_out'\n",
    "# is not currently implemented for the MPS device. If you want\n",
    "# this op to be added in priority during the prototype phase of\n",
    "# this feature, please comment on\n",
    "# https://github.com/pytorch/pytorch/issues/77764.\n",
    "# As a temporary fix, you can set the environment variable\n",
    "# `PYTORCH_ENABLE_MPS_FALLBACK=1` to use the CPU as\n",
    "# a fallback for this op.\n",
    "# WARNING: this will be slower than running natively on MPS.\n",
    "os.environ[\"PYTORCH_ENABLE_MPS_FALLBACK\"] = \"1\"  # before importing torch\n",
    "\n",
    "print(os.cpu_count())\n"
   ]
  },
  {
   "cell_type": "markdown",
   "metadata": {},
   "source": [
    "\\# TODO\n",
    "\n",
    "- <s>BatchNormalization?</s>\n",
    "- ハイパーパラメータチューニング (optuna?)\n",
    "- <s>モデルの解釈 (tanhやpoolingについて)</s>\n",
    "  - tanh: 活性化関数\n",
    "  - pooling: すべての原子の情報を統合する。原子数が異なるためそれらを揃える役割も。\n",
    "- <s>dropoutの導入？←過学習対策</s>\n",
    "- autumentation?\n",
    "- モデルの途中保存 (エポック毎?)\n",
    "- エッジの重みも学習する (`nn.Parameter`?)\n",
    "- early-stopping\n",
    "- max-poolingの検討\n",
    "- 転移学習 (fine-tuning and feature-extraction)\n",
    "- [GIN層](https://pytorch-geometric.readthedocs.io/en/latest/generated/torch_geometric.nn.conv.GINConv.html#torch_geometric.nn.conv.GINConv)を試してみる"
   ]
  },
  {
   "cell_type": "code",
   "execution_count": 2,
   "metadata": {},
   "outputs": [],
   "source": [
    "import numpy as np\n",
    "import pandas as pd\n",
    "import rdkit\n",
    "from rdkit import Chem\n",
    "from rdkit.Chem import Descriptors\n",
    "from sklearn.model_selection import train_test_split\n",
    "from sklearn.ensemble import RandomForestRegressor\n",
    "\n",
    "import torch\n",
    "import torch_geometric\n",
    "import torch_geometric.nn\n",
    "import torch_geometric.data\n",
    "import torch_geometric.loader\n",
    "\n",
    "from torch_utils.data import GraphDataset\n",
    "from torch_utils.model import GCN\n",
    "from torch_utils.torch_utils import fit, evaluate_history, torch_seed, EarlyStopping\n",
    "from torch_utils.utils import yyplot, check_tqdm\n"
   ]
  },
  {
   "cell_type": "code",
   "execution_count": 3,
   "metadata": {},
   "outputs": [
    {
     "data": {
      "text/plain": [
       "'2.1.0'"
      ]
     },
     "execution_count": 3,
     "metadata": {},
     "output_type": "execute_result"
    }
   ],
   "source": [
    "torch.__version__\n"
   ]
  },
  {
   "cell_type": "code",
   "execution_count": 4,
   "metadata": {},
   "outputs": [
    {
     "data": {
      "text/plain": [
       "'2.4.0'"
      ]
     },
     "execution_count": 4,
     "metadata": {},
     "output_type": "execute_result"
    }
   ],
   "source": [
    "torch_geometric.__version__\n"
   ]
  },
  {
   "cell_type": "code",
   "execution_count": 5,
   "metadata": {},
   "outputs": [
    {
     "data": {
      "text/plain": [
       "'2023.09.1'"
      ]
     },
     "execution_count": 5,
     "metadata": {},
     "output_type": "execute_result"
    }
   ],
   "source": [
    "rdkit.__version__\n"
   ]
  },
  {
   "cell_type": "code",
   "execution_count": 6,
   "metadata": {},
   "outputs": [],
   "source": [
    "seed = 334\n",
    "batch_size = 256\n",
    "\n",
    "torch_seed(seed)\n"
   ]
  },
  {
   "cell_type": "code",
   "execution_count": 7,
   "metadata": {},
   "outputs": [
    {
     "name": "stdout",
     "output_type": "stream",
     "text": [
      "(1290, 197)\n"
     ]
    },
    {
     "data": {
      "text/html": [
       "<div>\n",
       "<style scoped>\n",
       "    .dataframe tbody tr th:only-of-type {\n",
       "        vertical-align: middle;\n",
       "    }\n",
       "\n",
       "    .dataframe tbody tr th {\n",
       "        vertical-align: top;\n",
       "    }\n",
       "\n",
       "    .dataframe thead th {\n",
       "        text-align: right;\n",
       "    }\n",
       "</style>\n",
       "<table border=\"1\" class=\"dataframe\">\n",
       "  <thead>\n",
       "    <tr style=\"text-align: right;\">\n",
       "      <th></th>\n",
       "      <th>logS</th>\n",
       "      <th>MolWt</th>\n",
       "      <th>HeavyAtomMolWt</th>\n",
       "      <th>ExactMolWt</th>\n",
       "      <th>NumValenceElectrons</th>\n",
       "      <th>NumRadicalElectrons</th>\n",
       "      <th>MaxPartialCharge</th>\n",
       "      <th>MinPartialCharge</th>\n",
       "      <th>MaxAbsPartialCharge</th>\n",
       "      <th>MinAbsPartialCharge</th>\n",
       "      <th>...</th>\n",
       "      <th>fr_sulfide</th>\n",
       "      <th>fr_sulfonamd</th>\n",
       "      <th>fr_sulfone</th>\n",
       "      <th>fr_term_acetylene</th>\n",
       "      <th>fr_tetrazole</th>\n",
       "      <th>fr_thiazole</th>\n",
       "      <th>fr_thiocyan</th>\n",
       "      <th>fr_thiophene</th>\n",
       "      <th>fr_unbrch_alkane</th>\n",
       "      <th>fr_urea</th>\n",
       "    </tr>\n",
       "  </thead>\n",
       "  <tbody>\n",
       "    <tr>\n",
       "      <th>CC(N)=O</th>\n",
       "      <td>1.58</td>\n",
       "      <td>59.068</td>\n",
       "      <td>54.028</td>\n",
       "      <td>59.037114</td>\n",
       "      <td>24</td>\n",
       "      <td>0</td>\n",
       "      <td>0.213790</td>\n",
       "      <td>-0.369921</td>\n",
       "      <td>0.369921</td>\n",
       "      <td>0.213790</td>\n",
       "      <td>...</td>\n",
       "      <td>0</td>\n",
       "      <td>0</td>\n",
       "      <td>0</td>\n",
       "      <td>0</td>\n",
       "      <td>0</td>\n",
       "      <td>0</td>\n",
       "      <td>0</td>\n",
       "      <td>0</td>\n",
       "      <td>0</td>\n",
       "      <td>0</td>\n",
       "    </tr>\n",
       "    <tr>\n",
       "      <th>CNN</th>\n",
       "      <td>1.34</td>\n",
       "      <td>46.073</td>\n",
       "      <td>40.025</td>\n",
       "      <td>46.053098</td>\n",
       "      <td>20</td>\n",
       "      <td>0</td>\n",
       "      <td>-0.001725</td>\n",
       "      <td>-0.271722</td>\n",
       "      <td>0.271722</td>\n",
       "      <td>0.001725</td>\n",
       "      <td>...</td>\n",
       "      <td>0</td>\n",
       "      <td>0</td>\n",
       "      <td>0</td>\n",
       "      <td>0</td>\n",
       "      <td>0</td>\n",
       "      <td>0</td>\n",
       "      <td>0</td>\n",
       "      <td>0</td>\n",
       "      <td>0</td>\n",
       "      <td>0</td>\n",
       "    </tr>\n",
       "    <tr>\n",
       "      <th>CC(=O)O</th>\n",
       "      <td>1.22</td>\n",
       "      <td>60.052</td>\n",
       "      <td>56.020</td>\n",
       "      <td>60.021129</td>\n",
       "      <td>24</td>\n",
       "      <td>0</td>\n",
       "      <td>0.299685</td>\n",
       "      <td>-0.481433</td>\n",
       "      <td>0.481433</td>\n",
       "      <td>0.299685</td>\n",
       "      <td>...</td>\n",
       "      <td>0</td>\n",
       "      <td>0</td>\n",
       "      <td>0</td>\n",
       "      <td>0</td>\n",
       "      <td>0</td>\n",
       "      <td>0</td>\n",
       "      <td>0</td>\n",
       "      <td>0</td>\n",
       "      <td>0</td>\n",
       "      <td>0</td>\n",
       "    </tr>\n",
       "    <tr>\n",
       "      <th>C1CCNC1</th>\n",
       "      <td>1.15</td>\n",
       "      <td>71.123</td>\n",
       "      <td>62.051</td>\n",
       "      <td>71.073499</td>\n",
       "      <td>30</td>\n",
       "      <td>0</td>\n",
       "      <td>-0.004845</td>\n",
       "      <td>-0.316731</td>\n",
       "      <td>0.316731</td>\n",
       "      <td>0.004845</td>\n",
       "      <td>...</td>\n",
       "      <td>0</td>\n",
       "      <td>0</td>\n",
       "      <td>0</td>\n",
       "      <td>0</td>\n",
       "      <td>0</td>\n",
       "      <td>0</td>\n",
       "      <td>0</td>\n",
       "      <td>0</td>\n",
       "      <td>0</td>\n",
       "      <td>0</td>\n",
       "    </tr>\n",
       "    <tr>\n",
       "      <th>NC(=O)NO</th>\n",
       "      <td>1.12</td>\n",
       "      <td>76.055</td>\n",
       "      <td>72.023</td>\n",
       "      <td>76.027277</td>\n",
       "      <td>30</td>\n",
       "      <td>0</td>\n",
       "      <td>0.335391</td>\n",
       "      <td>-0.349891</td>\n",
       "      <td>0.349891</td>\n",
       "      <td>0.335391</td>\n",
       "      <td>...</td>\n",
       "      <td>0</td>\n",
       "      <td>0</td>\n",
       "      <td>0</td>\n",
       "      <td>0</td>\n",
       "      <td>0</td>\n",
       "      <td>0</td>\n",
       "      <td>0</td>\n",
       "      <td>0</td>\n",
       "      <td>0</td>\n",
       "      <td>1</td>\n",
       "    </tr>\n",
       "  </tbody>\n",
       "</table>\n",
       "<p>5 rows × 197 columns</p>\n",
       "</div>"
      ],
      "text/plain": [
       "          logS   MolWt  HeavyAtomMolWt  ExactMolWt  NumValenceElectrons  \\\n",
       "CC(N)=O   1.58  59.068          54.028   59.037114                   24   \n",
       "CNN       1.34  46.073          40.025   46.053098                   20   \n",
       "CC(=O)O   1.22  60.052          56.020   60.021129                   24   \n",
       "C1CCNC1   1.15  71.123          62.051   71.073499                   30   \n",
       "NC(=O)NO  1.12  76.055          72.023   76.027277                   30   \n",
       "\n",
       "          NumRadicalElectrons  MaxPartialCharge  MinPartialCharge  \\\n",
       "CC(N)=O                     0          0.213790         -0.369921   \n",
       "CNN                         0         -0.001725         -0.271722   \n",
       "CC(=O)O                     0          0.299685         -0.481433   \n",
       "C1CCNC1                     0         -0.004845         -0.316731   \n",
       "NC(=O)NO                    0          0.335391         -0.349891   \n",
       "\n",
       "          MaxAbsPartialCharge  MinAbsPartialCharge  ...  fr_sulfide  \\\n",
       "CC(N)=O              0.369921             0.213790  ...           0   \n",
       "CNN                  0.271722             0.001725  ...           0   \n",
       "CC(=O)O              0.481433             0.299685  ...           0   \n",
       "C1CCNC1              0.316731             0.004845  ...           0   \n",
       "NC(=O)NO             0.349891             0.335391  ...           0   \n",
       "\n",
       "          fr_sulfonamd  fr_sulfone  fr_term_acetylene  fr_tetrazole  \\\n",
       "CC(N)=O              0           0                  0             0   \n",
       "CNN                  0           0                  0             0   \n",
       "CC(=O)O              0           0                  0             0   \n",
       "C1CCNC1              0           0                  0             0   \n",
       "NC(=O)NO             0           0                  0             0   \n",
       "\n",
       "          fr_thiazole  fr_thiocyan  fr_thiophene  fr_unbrch_alkane  fr_urea  \n",
       "CC(N)=O             0            0             0                 0        0  \n",
       "CNN                 0            0             0                 0        0  \n",
       "CC(=O)O             0            0             0                 0        0  \n",
       "C1CCNC1             0            0             0                 0        0  \n",
       "NC(=O)NO            0            0             0                 0        1  \n",
       "\n",
       "[5 rows x 197 columns]"
      ]
     },
     "execution_count": 7,
     "metadata": {},
     "output_type": "execute_result"
    }
   ],
   "source": [
    "# df_raw = pd.read_csv(\"./data/curated-solubility-dataset.csv\", index_col=0)\n",
    "df_raw = pd.read_csv(\"./data/logSdataset1290.csv\", index_col=0)\n",
    "# 計算時間短縮\n",
    "# df_raw = df_raw.iloc[:1000]\n",
    "print(df_raw.shape)\n",
    "df_raw.head()\n"
   ]
  },
  {
   "cell_type": "code",
   "execution_count": 8,
   "metadata": {},
   "outputs": [],
   "source": [
    "# smiles = df_raw[\"SMILES\"]\n",
    "# y = df_raw[\"Solubility\"]\n",
    "smiles = df_raw.index\n",
    "y = df_raw[\"logS\"]\n"
   ]
  },
  {
   "cell_type": "code",
   "execution_count": 9,
   "metadata": {},
   "outputs": [],
   "source": [
    "# scaling\n",
    "y_mean = y.mean()\n",
    "y_std = y.std(ddof=1)\n"
   ]
  },
  {
   "cell_type": "code",
   "execution_count": 10,
   "metadata": {},
   "outputs": [],
   "source": [
    "smiles = smiles.tolist()\n",
    "y = torch.Tensor(((y - y_mean) / y_std).tolist()).view(-1, 1)\n"
   ]
  },
  {
   "cell_type": "code",
   "execution_count": 11,
   "metadata": {},
   "outputs": [],
   "source": [
    "mols = map(Chem.MolFromSmiles, smiles)\n"
   ]
  },
  {
   "cell_type": "code",
   "execution_count": 12,
   "metadata": {},
   "outputs": [
    {
     "data": {
      "application/vnd.jupyter.widget-view+json": {
       "model_id": "e23ae954dbab4272a6c6c517c4b2059a",
       "version_major": 2,
       "version_minor": 0
      },
      "text/plain": [
       "  0%|          | 0/1290 [00:00<?, ?it/s]"
      ]
     },
     "metadata": {},
     "output_type": "display_data"
    },
    {
     "data": {
      "text/plain": [
       "GraphDataset(size=1290)"
      ]
     },
     "execution_count": 12,
     "metadata": {},
     "output_type": "execute_result"
    }
   ],
   "source": [
    "dataset = GraphDataset(mols, y, n_jobs=-1, ipynb=True)\n",
    "dataset\n"
   ]
  },
  {
   "cell_type": "code",
   "execution_count": 13,
   "metadata": {},
   "outputs": [
    {
     "data": {
      "text/plain": [
       "<torch_geometric.loader.dataloader.DataLoader at 0x15de9ec10>"
      ]
     },
     "execution_count": 13,
     "metadata": {},
     "output_type": "execute_result"
    }
   ],
   "source": [
    "# dataloader = torch.utils.data.DataLoader(dataset, batch_size=32, shuffle=True)\n",
    "dataloader = torch_geometric.loader.DataLoader(\n",
    "    dataset, batch_size=batch_size, shuffle=True\n",
    ")\n",
    "# the following is deprecated\n",
    "# dataloader = torch_geometric.data.DataLoader(\n",
    "#     dataset, batch_size=batch_size, shuffle=True\n",
    "# )\n",
    "dataloader\n"
   ]
  },
  {
   "cell_type": "code",
   "execution_count": 14,
   "metadata": {},
   "outputs": [
    {
     "name": "stdout",
     "output_type": "stream",
     "text": [
      "928 104 258\n"
     ]
    }
   ],
   "source": [
    "dataset_train, dataset_test = train_test_split(\n",
    "    dataset, test_size=0.2, random_state=seed\n",
    ")\n",
    "dataset_train, dataset_val = train_test_split(\n",
    "    dataset_train, test_size=0.1, random_state=seed\n",
    ")\n",
    "print(len(dataset_train), len(dataset_val), len(dataset_test))\n"
   ]
  },
  {
   "cell_type": "code",
   "execution_count": 15,
   "metadata": {},
   "outputs": [],
   "source": [
    "dataloader_train = torch_geometric.loader.DataLoader(\n",
    "    dataset_train, batch_size=batch_size, shuffle=True\n",
    ")\n",
    "dataloader_val = torch_geometric.loader.DataLoader(\n",
    "    dataset_val, batch_size=batch_size, shuffle=False\n",
    ")\n",
    "dataloader_test = torch_geometric.loader.DataLoader(\n",
    "    dataset_test, batch_size=batch_size, shuffle=False\n",
    ")\n"
   ]
  },
  {
   "cell_type": "code",
   "execution_count": 16,
   "metadata": {},
   "outputs": [],
   "source": [
    "data = dataset_train[0]\n",
    "num_features = data.x.shape[1]\n"
   ]
  },
  {
   "cell_type": "code",
   "execution_count": 17,
   "metadata": {},
   "outputs": [
    {
     "name": "stdout",
     "output_type": "stream",
     "text": [
      "GCN(\n",
      "  (initial_conv): GCNConv(30, 64)\n",
      "  (batch_norm0): BatchNorm(64)\n",
      "  (conv1): GCNConv(64, 64)\n",
      "  (batch_norm1): BatchNorm(64)\n",
      "  (conv2): GCNConv(64, 64)\n",
      "  (conv3): GCNConv(64, 64)\n",
      "  (dropout): Dropout(p=0.01, inplace=False)\n",
      "  (relu): LeakyReLU(negative_slope=0.01)\n",
      "  (fc): Linear(in_features=128, out_features=1, bias=True)\n",
      ")\n"
     ]
    }
   ],
   "source": [
    "model = GCN(in_channels=num_features, embedding_size=64)\n",
    "print(model)\n"
   ]
  },
  {
   "cell_type": "code",
   "execution_count": 18,
   "metadata": {},
   "outputs": [
    {
     "name": "stdout",
     "output_type": "stream",
     "text": [
      "+----------------------------+---------------+----------------+----------+\n",
      "| Layer                      | Input Shape   | Output Shape   | #Param   |\n",
      "|----------------------------+---------------+----------------+----------|\n",
      "| GCN                        | [14, 14]      | [1, 1]         | 14,849   |\n",
      "| ├─(initial_conv)GCNConv    |               | [14, 64]       | 1,984    |\n",
      "| ├─(batch_norm0)BatchNorm   | [14, 64]      | [14, 64]       | 128      |\n",
      "| │    └─(module)BatchNorm1d | [14, 64]      | [14, 64]       | 128      |\n",
      "| ├─(conv1)GCNConv           |               | [14, 64]       | 4,160    |\n",
      "| ├─(batch_norm1)BatchNorm   | [14, 64]      | [14, 64]       | 128      |\n",
      "| │    └─(module)BatchNorm1d | [14, 64]      | [14, 64]       | 128      |\n",
      "| ├─(conv2)GCNConv           |               | [14, 64]       | 4,160    |\n",
      "| ├─(conv3)GCNConv           |               | [14, 64]       | 4,160    |\n",
      "| ├─(dropout)Dropout         | [14, 64]      | [14, 64]       | --       |\n",
      "| ├─(relu)LeakyReLU          | [14, 64]      | [14, 64]       | --       |\n",
      "| ├─(fc)Linear               | [1, 128]      | [1, 1]         | 129      |\n",
      "+----------------------------+---------------+----------------+----------+\n"
     ]
    }
   ],
   "source": [
    "# Need 'tabulate' package\n",
    "print(torch_geometric.nn.summary(model, data))\n"
   ]
  },
  {
   "cell_type": "code",
   "execution_count": 19,
   "metadata": {},
   "outputs": [
    {
     "data": {
      "text/plain": [
       "device(type='mps')"
      ]
     },
     "execution_count": 19,
     "metadata": {},
     "output_type": "execute_result"
    }
   ],
   "source": [
    "device = torch.device(\"mps\" if torch.backends.mps.is_available() else \"cpu\")\n",
    "device\n"
   ]
  },
  {
   "cell_type": "code",
   "execution_count": 20,
   "metadata": {},
   "outputs": [
    {
     "data": {
      "application/vnd.jupyter.widget-view+json": {
       "model_id": "86885fd91bd4487dbcca1f121a463f36",
       "version_major": 2,
       "version_minor": 0
      },
      "text/plain": [
       "  0%|          | 0/4 [00:00<?, ?it/s]"
      ]
     },
     "metadata": {},
     "output_type": "display_data"
    },
    {
     "name": "stderr",
     "output_type": "stream",
     "text": [
      "/Users/yu9824/miniforge3/envs/torch39/lib/python3.9/site-packages/torch_geometric/utils/scatter.py:94: UserWarning: The operator 'aten::scatter_reduce.two_out' is not currently supported on the MPS backend and will fall back to run on the CPU. This may have performance implications. (Triggered internally at /Users/runner/work/_temp/anaconda/conda-bld/pytorch_1695391825142/work/aten/src/ATen/mps/MPSFallback.mm:13.)\n",
      "  return src.new_zeros(size).scatter_reduce_(\n"
     ]
    },
    {
     "name": "stdout",
     "output_type": "stream",
     "text": [
      "Epoch [1/50], loss: 0.90573 val_loss: 1.11029, \n",
      "Validation loss decreased (inf --> 1.110288).  Saving model ...\n"
     ]
    },
    {
     "data": {
      "application/vnd.jupyter.widget-view+json": {
       "model_id": "802dece60d72462cb02f5ca115f0403a",
       "version_major": 2,
       "version_minor": 0
      },
      "text/plain": [
       "  0%|          | 0/4 [00:00<?, ?it/s]"
      ]
     },
     "metadata": {},
     "output_type": "display_data"
    },
    {
     "name": "stdout",
     "output_type": "stream",
     "text": [
      "Epoch [2/50], loss: 0.65772 val_loss: 1.07903, \n",
      "Validation loss decreased (1.110288 --> 1.079028).  Saving model ...\n"
     ]
    },
    {
     "data": {
      "application/vnd.jupyter.widget-view+json": {
       "model_id": "1f3b6d308afb4beea7b72ff36f58afbc",
       "version_major": 2,
       "version_minor": 0
      },
      "text/plain": [
       "  0%|          | 0/4 [00:00<?, ?it/s]"
      ]
     },
     "metadata": {},
     "output_type": "display_data"
    },
    {
     "name": "stdout",
     "output_type": "stream",
     "text": [
      "Epoch [3/50], loss: 0.48013 val_loss: 1.07624, \n",
      "Validation loss decreased (1.079028 --> 1.076236).  Saving model ...\n"
     ]
    },
    {
     "data": {
      "application/vnd.jupyter.widget-view+json": {
       "model_id": "2b463c02aeba424fb0bebe72f4554371",
       "version_major": 2,
       "version_minor": 0
      },
      "text/plain": [
       "  0%|          | 0/4 [00:00<?, ?it/s]"
      ]
     },
     "metadata": {},
     "output_type": "display_data"
    },
    {
     "name": "stdout",
     "output_type": "stream",
     "text": [
      "Epoch [4/50], loss: 0.35760 val_loss: 0.97945, \n",
      "Validation loss decreased (1.076236 --> 0.979451).  Saving model ...\n"
     ]
    },
    {
     "data": {
      "application/vnd.jupyter.widget-view+json": {
       "model_id": "e23e6f56ca7942c095d20df480eb40f7",
       "version_major": 2,
       "version_minor": 0
      },
      "text/plain": [
       "  0%|          | 0/4 [00:00<?, ?it/s]"
      ]
     },
     "metadata": {},
     "output_type": "display_data"
    },
    {
     "name": "stdout",
     "output_type": "stream",
     "text": [
      "Epoch [5/50], loss: 0.28709 val_loss: 0.91820, \n",
      "Validation loss decreased (0.979451 --> 0.918196).  Saving model ...\n"
     ]
    },
    {
     "data": {
      "application/vnd.jupyter.widget-view+json": {
       "model_id": "6569875e0fe14a6d9ca3d6545ec2ee99",
       "version_major": 2,
       "version_minor": 0
      },
      "text/plain": [
       "  0%|          | 0/4 [00:00<?, ?it/s]"
      ]
     },
     "metadata": {},
     "output_type": "display_data"
    },
    {
     "name": "stdout",
     "output_type": "stream",
     "text": [
      "Epoch [6/50], loss: 0.25613 val_loss: 0.80482, \n",
      "Validation loss decreased (0.918196 --> 0.804824).  Saving model ...\n"
     ]
    },
    {
     "data": {
      "application/vnd.jupyter.widget-view+json": {
       "model_id": "483cbc0ab7674b52a8a0fd1103c3ce4e",
       "version_major": 2,
       "version_minor": 0
      },
      "text/plain": [
       "  0%|          | 0/4 [00:00<?, ?it/s]"
      ]
     },
     "metadata": {},
     "output_type": "display_data"
    },
    {
     "name": "stdout",
     "output_type": "stream",
     "text": [
      "Epoch [7/50], loss: 0.22259 val_loss: 0.62817, \n",
      "Validation loss decreased (0.804824 --> 0.628174).  Saving model ...\n"
     ]
    },
    {
     "data": {
      "application/vnd.jupyter.widget-view+json": {
       "model_id": "8c0a3ec3eda84f458c3c54bb473d4f09",
       "version_major": 2,
       "version_minor": 0
      },
      "text/plain": [
       "  0%|          | 0/4 [00:00<?, ?it/s]"
      ]
     },
     "metadata": {},
     "output_type": "display_data"
    },
    {
     "name": "stdout",
     "output_type": "stream",
     "text": [
      "Epoch [8/50], loss: 0.20252 val_loss: 0.56556, \n",
      "Validation loss decreased (0.628174 --> 0.565564).  Saving model ...\n"
     ]
    },
    {
     "data": {
      "application/vnd.jupyter.widget-view+json": {
       "model_id": "8b7f537afa5745148fdd992b8320a78d",
       "version_major": 2,
       "version_minor": 0
      },
      "text/plain": [
       "  0%|          | 0/4 [00:00<?, ?it/s]"
      ]
     },
     "metadata": {},
     "output_type": "display_data"
    },
    {
     "name": "stdout",
     "output_type": "stream",
     "text": [
      "Epoch [9/50], loss: 0.18116 val_loss: 0.45903, \n",
      "Validation loss decreased (0.565564 --> 0.459026).  Saving model ...\n"
     ]
    },
    {
     "data": {
      "application/vnd.jupyter.widget-view+json": {
       "model_id": "6a1b9c5785784d42a46e1895d17a80b5",
       "version_major": 2,
       "version_minor": 0
      },
      "text/plain": [
       "  0%|          | 0/4 [00:00<?, ?it/s]"
      ]
     },
     "metadata": {},
     "output_type": "display_data"
    },
    {
     "name": "stdout",
     "output_type": "stream",
     "text": [
      "Epoch [10/50], loss: 0.16397 val_loss: 0.40546, \n",
      "Validation loss decreased (0.459026 --> 0.405464).  Saving model ...\n"
     ]
    },
    {
     "data": {
      "application/vnd.jupyter.widget-view+json": {
       "model_id": "b2ce6cfd5e1b4abaa37543d9ea3bc8e8",
       "version_major": 2,
       "version_minor": 0
      },
      "text/plain": [
       "  0%|          | 0/4 [00:00<?, ?it/s]"
      ]
     },
     "metadata": {},
     "output_type": "display_data"
    },
    {
     "name": "stdout",
     "output_type": "stream",
     "text": [
      "Epoch [11/50], loss: 0.15005 val_loss: 0.30888, \n",
      "Validation loss decreased (0.405464 --> 0.308884).  Saving model ...\n"
     ]
    },
    {
     "data": {
      "application/vnd.jupyter.widget-view+json": {
       "model_id": "61b64c62183e447780eb0123f3cd50d8",
       "version_major": 2,
       "version_minor": 0
      },
      "text/plain": [
       "  0%|          | 0/4 [00:00<?, ?it/s]"
      ]
     },
     "metadata": {},
     "output_type": "display_data"
    },
    {
     "name": "stdout",
     "output_type": "stream",
     "text": [
      "Epoch [12/50], loss: 0.14090 val_loss: 0.28696, \n",
      "Validation loss decreased (0.308884 --> 0.286964).  Saving model ...\n"
     ]
    },
    {
     "data": {
      "application/vnd.jupyter.widget-view+json": {
       "model_id": "16d98783d46f4ecbb19d8cc2c2451c90",
       "version_major": 2,
       "version_minor": 0
      },
      "text/plain": [
       "  0%|          | 0/4 [00:00<?, ?it/s]"
      ]
     },
     "metadata": {},
     "output_type": "display_data"
    },
    {
     "name": "stdout",
     "output_type": "stream",
     "text": [
      "Epoch [13/50], loss: 0.13317 val_loss: 0.23849, \n",
      "Validation loss decreased (0.286964 --> 0.238489).  Saving model ...\n"
     ]
    },
    {
     "data": {
      "application/vnd.jupyter.widget-view+json": {
       "model_id": "6b67278625f446238f45e8d81f9081db",
       "version_major": 2,
       "version_minor": 0
      },
      "text/plain": [
       "  0%|          | 0/4 [00:00<?, ?it/s]"
      ]
     },
     "metadata": {},
     "output_type": "display_data"
    },
    {
     "name": "stdout",
     "output_type": "stream",
     "text": [
      "Epoch [14/50], loss: 0.13303 val_loss: 0.23653, \n",
      "Validation loss decreased (0.238489 --> 0.236530).  Saving model ...\n"
     ]
    },
    {
     "data": {
      "application/vnd.jupyter.widget-view+json": {
       "model_id": "ab4149489a234653882a12c937269f3d",
       "version_major": 2,
       "version_minor": 0
      },
      "text/plain": [
       "  0%|          | 0/4 [00:00<?, ?it/s]"
      ]
     },
     "metadata": {},
     "output_type": "display_data"
    },
    {
     "name": "stdout",
     "output_type": "stream",
     "text": [
      "Epoch [15/50], loss: 0.13131 val_loss: 0.21002, \n",
      "Validation loss decreased (0.236530 --> 0.210025).  Saving model ...\n"
     ]
    },
    {
     "data": {
      "application/vnd.jupyter.widget-view+json": {
       "model_id": "6bf581e6747249eeadb922b380ead4d9",
       "version_major": 2,
       "version_minor": 0
      },
      "text/plain": [
       "  0%|          | 0/4 [00:00<?, ?it/s]"
      ]
     },
     "metadata": {},
     "output_type": "display_data"
    },
    {
     "name": "stdout",
     "output_type": "stream",
     "text": [
      "Epoch [16/50], loss: 0.13039 val_loss: 0.20196, \n",
      "Validation loss decreased (0.210025 --> 0.201965).  Saving model ...\n"
     ]
    },
    {
     "data": {
      "application/vnd.jupyter.widget-view+json": {
       "model_id": "70a3eeff02324f49a628fc6bbe4c7bfe",
       "version_major": 2,
       "version_minor": 0
      },
      "text/plain": [
       "  0%|          | 0/4 [00:00<?, ?it/s]"
      ]
     },
     "metadata": {},
     "output_type": "display_data"
    },
    {
     "name": "stdout",
     "output_type": "stream",
     "text": [
      "Epoch [17/50], loss: 0.12844 val_loss: 0.19559, \n",
      "Validation loss decreased (0.201965 --> 0.195590).  Saving model ...\n"
     ]
    },
    {
     "data": {
      "application/vnd.jupyter.widget-view+json": {
       "model_id": "dfe8266c6796448a9334056cd3bae33d",
       "version_major": 2,
       "version_minor": 0
      },
      "text/plain": [
       "  0%|          | 0/4 [00:00<?, ?it/s]"
      ]
     },
     "metadata": {},
     "output_type": "display_data"
    },
    {
     "name": "stdout",
     "output_type": "stream",
     "text": [
      "Epoch [18/50], loss: 0.11033 val_loss: 0.20092, \n",
      "EarlyStopping counter: 1 out of 5\n"
     ]
    },
    {
     "data": {
      "application/vnd.jupyter.widget-view+json": {
       "model_id": "c16b8c131c8d479384170b4c249818f4",
       "version_major": 2,
       "version_minor": 0
      },
      "text/plain": [
       "  0%|          | 0/4 [00:00<?, ?it/s]"
      ]
     },
     "metadata": {},
     "output_type": "display_data"
    },
    {
     "name": "stdout",
     "output_type": "stream",
     "text": [
      "Epoch [19/50], loss: 0.11344 val_loss: 0.20606, \n",
      "EarlyStopping counter: 2 out of 5\n"
     ]
    },
    {
     "data": {
      "application/vnd.jupyter.widget-view+json": {
       "model_id": "318d2934bfb74bfd9fc6eafe2d19d582",
       "version_major": 2,
       "version_minor": 0
      },
      "text/plain": [
       "  0%|          | 0/4 [00:00<?, ?it/s]"
      ]
     },
     "metadata": {},
     "output_type": "display_data"
    },
    {
     "name": "stdout",
     "output_type": "stream",
     "text": [
      "Epoch [20/50], loss: 0.11070 val_loss: 0.18411, \n",
      "Validation loss decreased (0.195590 --> 0.184115).  Saving model ...\n"
     ]
    },
    {
     "data": {
      "application/vnd.jupyter.widget-view+json": {
       "model_id": "eab8041ab43b427094fdbb8bf62dd475",
       "version_major": 2,
       "version_minor": 0
      },
      "text/plain": [
       "  0%|          | 0/4 [00:00<?, ?it/s]"
      ]
     },
     "metadata": {},
     "output_type": "display_data"
    },
    {
     "name": "stdout",
     "output_type": "stream",
     "text": [
      "Epoch [21/50], loss: 0.12266 val_loss: 0.22136, \n",
      "EarlyStopping counter: 1 out of 5\n"
     ]
    },
    {
     "data": {
      "application/vnd.jupyter.widget-view+json": {
       "model_id": "c4e98f30713b400196928d0245918040",
       "version_major": 2,
       "version_minor": 0
      },
      "text/plain": [
       "  0%|          | 0/4 [00:00<?, ?it/s]"
      ]
     },
     "metadata": {},
     "output_type": "display_data"
    },
    {
     "name": "stdout",
     "output_type": "stream",
     "text": [
      "Epoch [22/50], loss: 0.12192 val_loss: 0.23510, \n",
      "EarlyStopping counter: 2 out of 5\n"
     ]
    },
    {
     "data": {
      "application/vnd.jupyter.widget-view+json": {
       "model_id": "ebd4ac17de8143238baabe7e9b5853d3",
       "version_major": 2,
       "version_minor": 0
      },
      "text/plain": [
       "  0%|          | 0/4 [00:00<?, ?it/s]"
      ]
     },
     "metadata": {},
     "output_type": "display_data"
    },
    {
     "name": "stdout",
     "output_type": "stream",
     "text": [
      "Epoch [23/50], loss: 0.13089 val_loss: 0.24280, \n",
      "EarlyStopping counter: 3 out of 5\n"
     ]
    },
    {
     "data": {
      "application/vnd.jupyter.widget-view+json": {
       "model_id": "ca9856d0dd694f25bb295def1fd34801",
       "version_major": 2,
       "version_minor": 0
      },
      "text/plain": [
       "  0%|          | 0/4 [00:00<?, ?it/s]"
      ]
     },
     "metadata": {},
     "output_type": "display_data"
    },
    {
     "name": "stdout",
     "output_type": "stream",
     "text": [
      "Epoch [24/50], loss: 0.14293 val_loss: 0.19657, \n",
      "EarlyStopping counter: 4 out of 5\n"
     ]
    },
    {
     "data": {
      "application/vnd.jupyter.widget-view+json": {
       "model_id": "f407146aaf6042cea0539aebc9dde3e8",
       "version_major": 2,
       "version_minor": 0
      },
      "text/plain": [
       "  0%|          | 0/4 [00:00<?, ?it/s]"
      ]
     },
     "metadata": {},
     "output_type": "display_data"
    },
    {
     "name": "stdout",
     "output_type": "stream",
     "text": [
      "Epoch [25/50], loss: 0.12570 val_loss: 0.19462, \n",
      "EarlyStopping counter: 5 out of 5\n"
     ]
    }
   ],
   "source": [
    "early_stopping = EarlyStopping(patience=5, verbose=True)\n",
    "\n",
    "history = fit(\n",
    "    model.to(device),\n",
    "    optimizer=torch.optim.Adam(model.parameters(), lr=0.002),\n",
    "    criterion=torch.nn.MSELoss(),\n",
    "    train_loader=dataloader_train,\n",
    "    val_loader=dataloader_val,\n",
    "    # num_epochs=10,\n",
    "    # num_epochs=100,\n",
    "    num_epochs=50,\n",
    "    device=device,\n",
    "    early_stopping=early_stopping,\n",
    "    ipynb=True,\n",
    ")\n"
   ]
  },
  {
   "cell_type": "code",
   "execution_count": 21,
   "metadata": {},
   "outputs": [
    {
     "name": "stdout",
     "output_type": "stream",
     "text": [
      "初期状態: 損失: 1.11029\n",
      "最終状態: 損失: 0.19462\n"
     ]
    },
    {
     "data": {
      "text/plain": [
       "<Axes: title={'center': 'Training and validation loss history'}, xlabel='epoch', ylabel='loss'>"
      ]
     },
     "execution_count": 21,
     "metadata": {},
     "output_type": "execute_result"
    },
    {
     "data": {
      "image/png": "[encoded data removed]",
      "text/plain": [
       "<Figure size 640x480 with 1 Axes>"
      ]
     },
     "metadata": {},
     "output_type": "display_data"
    }
   ],
   "source": [
    "evaluate_history(history)\n"
   ]
  },
  {
   "cell_type": "code",
   "execution_count": 22,
   "metadata": {},
   "outputs": [
    {
     "data": {
      "text/plain": [
       "False"
      ]
     },
     "execution_count": 22,
     "metadata": {},
     "output_type": "execute_result"
    }
   ],
   "source": [
    "model.training\n"
   ]
  },
  {
   "cell_type": "code",
   "execution_count": 23,
   "metadata": {},
   "outputs": [],
   "source": [
    "_tmp_y = []\n",
    "_tmp_y_pred = []\n",
    "for _batchdata_test in dataloader_test:\n",
    "    _tmp_y.append(_batchdata_test.y)\n",
    "    _tmp_y_pred.append(model(_batchdata_test.to(device)))\n"
   ]
  },
  {
   "cell_type": "code",
   "execution_count": 24,
   "metadata": {},
   "outputs": [],
   "source": [
    "y_test_scaled = torch.cat(_tmp_y, dim=0)\n",
    "y_pred_on_test_scaled = torch.cat(_tmp_y_pred, dim=0)\n"
   ]
  },
  {
   "cell_type": "code",
   "execution_count": 25,
   "metadata": {},
   "outputs": [],
   "source": [
    "y_test = y_test_scaled * y_std + y_mean\n",
    "y_pred_on_test = y_pred_on_test_scaled * y_std + y_mean\n"
   ]
  },
  {
   "cell_type": "code",
   "execution_count": 26,
   "metadata": {},
   "outputs": [],
   "source": [
    "_tmp_y = []\n",
    "_tmp_y_pred = []\n",
    "for _batchdata_val in dataloader_val:\n",
    "    _tmp_y.append(_batchdata_val.y)\n",
    "    _tmp_y_pred.append(model(_batchdata_val.to(device)))\n"
   ]
  },
  {
   "cell_type": "code",
   "execution_count": 27,
   "metadata": {},
   "outputs": [],
   "source": [
    "y_val_scaled = torch.cat(_tmp_y, dim=0)\n",
    "y_pred_on_val_scaled = torch.cat(_tmp_y_pred, dim=0)\n"
   ]
  },
  {
   "cell_type": "code",
   "execution_count": 28,
   "metadata": {},
   "outputs": [],
   "source": [
    "y_val = y_val_scaled * y_std + y_mean\n",
    "y_pred_on_val = y_pred_on_val_scaled * y_std + y_mean\n"
   ]
  },
  {
   "cell_type": "code",
   "execution_count": 29,
   "metadata": {},
   "outputs": [],
   "source": [
    "_tmp_y = []\n",
    "_tmp_y_pred = []\n",
    "for _batchdata_train in dataloader_train:\n",
    "    _tmp_y.append(_batchdata_train.y)\n",
    "    _tmp_y_pred.append(model(_batchdata_train.to(device)))\n"
   ]
  },
  {
   "cell_type": "code",
   "execution_count": 30,
   "metadata": {},
   "outputs": [],
   "source": [
    "y_train_scaled = torch.cat(_tmp_y, dim=0)\n",
    "y_pred_on_train_scaled = torch.cat(_tmp_y_pred, dim=0)\n"
   ]
  },
  {
   "cell_type": "code",
   "execution_count": 31,
   "metadata": {},
   "outputs": [],
   "source": [
    "y_train = y_train_scaled * y_std + y_mean\n",
    "y_pred_on_train = y_pred_on_train_scaled * y_std + y_mean\n"
   ]
  },
  {
   "cell_type": "code",
   "execution_count": 32,
   "metadata": {},
   "outputs": [
    {
     "data": {
      "image/png": "[encoded data removed]",
      "text/plain": [
       "<Figure size 640x480 with 1 Axes>"
      ]
     },
     "metadata": {},
     "output_type": "display_data"
    }
   ],
   "source": [
    "ax = yyplot(\n",
    "    y_train.cpu().detach().numpy(),\n",
    "    y_pred_on_train.cpu().detach().numpy(),\n",
    "    y_val.cpu().detach().numpy(),\n",
    "    y_pred_on_val.cpu().detach().numpy(),\n",
    "    y_test.cpu().detach().numpy(),\n",
    "    y_pred_on_test.cpu().detach().numpy(),\n",
    ")\n",
    "ax.figure.tight_layout()\n"
   ]
  },
  {
   "cell_type": "code",
   "execution_count": 33,
   "metadata": {},
   "outputs": [
    {
     "data": {
      "application/vnd.jupyter.widget-view+json": {
       "model_id": "9382324dcf0c40a591a96a256495d169",
       "version_major": 2,
       "version_minor": 0
      },
      "text/plain": [
       "  0%|          | 0/211 [00:00<?, ?it/s]"
      ]
     },
     "metadata": {},
     "output_type": "display_data"
    },
    {
     "data": {
      "text/html": [
       "<div>\n",
       "<style scoped>\n",
       "    .dataframe tbody tr th:only-of-type {\n",
       "        vertical-align: middle;\n",
       "    }\n",
       "\n",
       "    .dataframe tbody tr th {\n",
       "        vertical-align: top;\n",
       "    }\n",
       "\n",
       "    .dataframe thead th {\n",
       "        text-align: right;\n",
       "    }\n",
       "</style>\n",
       "<table border=\"1\" class=\"dataframe\">\n",
       "  <thead>\n",
       "    <tr style=\"text-align: right;\">\n",
       "      <th></th>\n",
       "      <th>MaxAbsEStateIndex</th>\n",
       "      <th>MaxEStateIndex</th>\n",
       "      <th>MinAbsEStateIndex</th>\n",
       "      <th>MinEStateIndex</th>\n",
       "      <th>qed</th>\n",
       "      <th>SPS</th>\n",
       "      <th>MolWt</th>\n",
       "      <th>HeavyAtomMolWt</th>\n",
       "      <th>ExactMolWt</th>\n",
       "      <th>NumValenceElectrons</th>\n",
       "      <th>...</th>\n",
       "      <th>fr_sulfide</th>\n",
       "      <th>fr_sulfonamd</th>\n",
       "      <th>fr_sulfone</th>\n",
       "      <th>fr_term_acetylene</th>\n",
       "      <th>fr_tetrazole</th>\n",
       "      <th>fr_thiazole</th>\n",
       "      <th>fr_thiocyan</th>\n",
       "      <th>fr_thiophene</th>\n",
       "      <th>fr_unbrch_alkane</th>\n",
       "      <th>fr_urea</th>\n",
       "    </tr>\n",
       "  </thead>\n",
       "  <tbody>\n",
       "    <tr>\n",
       "      <th>0</th>\n",
       "      <td>9.222222</td>\n",
       "      <td>9.222222</td>\n",
       "      <td>0.333333</td>\n",
       "      <td>-0.333333</td>\n",
       "      <td>0.401031</td>\n",
       "      <td>6.25</td>\n",
       "      <td>59.068</td>\n",
       "      <td>54.028</td>\n",
       "      <td>59.037114</td>\n",
       "      <td>24</td>\n",
       "      <td>...</td>\n",
       "      <td>0</td>\n",
       "      <td>0</td>\n",
       "      <td>0</td>\n",
       "      <td>0</td>\n",
       "      <td>0</td>\n",
       "      <td>0</td>\n",
       "      <td>0</td>\n",
       "      <td>0</td>\n",
       "      <td>0</td>\n",
       "      <td>0</td>\n",
       "    </tr>\n",
       "    <tr>\n",
       "      <th>1</th>\n",
       "      <td>4.597222</td>\n",
       "      <td>4.597222</td>\n",
       "      <td>1.652778</td>\n",
       "      <td>1.652778</td>\n",
       "      <td>0.273315</td>\n",
       "      <td>6.00</td>\n",
       "      <td>46.073</td>\n",
       "      <td>40.025</td>\n",
       "      <td>46.053098</td>\n",
       "      <td>20</td>\n",
       "      <td>...</td>\n",
       "      <td>0</td>\n",
       "      <td>0</td>\n",
       "      <td>0</td>\n",
       "      <td>0</td>\n",
       "      <td>0</td>\n",
       "      <td>0</td>\n",
       "      <td>0</td>\n",
       "      <td>0</td>\n",
       "      <td>0</td>\n",
       "      <td>0</td>\n",
       "    </tr>\n",
       "    <tr>\n",
       "      <th>2</th>\n",
       "      <td>9.000000</td>\n",
       "      <td>9.000000</td>\n",
       "      <td>0.833333</td>\n",
       "      <td>-0.833333</td>\n",
       "      <td>0.429883</td>\n",
       "      <td>6.25</td>\n",
       "      <td>60.052</td>\n",
       "      <td>56.020</td>\n",
       "      <td>60.021129</td>\n",
       "      <td>24</td>\n",
       "      <td>...</td>\n",
       "      <td>0</td>\n",
       "      <td>0</td>\n",
       "      <td>0</td>\n",
       "      <td>0</td>\n",
       "      <td>0</td>\n",
       "      <td>0</td>\n",
       "      <td>0</td>\n",
       "      <td>0</td>\n",
       "      <td>0</td>\n",
       "      <td>0</td>\n",
       "    </tr>\n",
       "    <tr>\n",
       "      <th>3</th>\n",
       "      <td>3.222222</td>\n",
       "      <td>3.222222</td>\n",
       "      <td>1.250000</td>\n",
       "      <td>1.250000</td>\n",
       "      <td>0.434794</td>\n",
       "      <td>24.00</td>\n",
       "      <td>71.123</td>\n",
       "      <td>62.051</td>\n",
       "      <td>71.073499</td>\n",
       "      <td>30</td>\n",
       "      <td>...</td>\n",
       "      <td>0</td>\n",
       "      <td>0</td>\n",
       "      <td>0</td>\n",
       "      <td>0</td>\n",
       "      <td>0</td>\n",
       "      <td>0</td>\n",
       "      <td>0</td>\n",
       "      <td>0</td>\n",
       "      <td>0</td>\n",
       "      <td>0</td>\n",
       "    </tr>\n",
       "    <tr>\n",
       "      <th>4</th>\n",
       "      <td>9.229167</td>\n",
       "      <td>9.229167</td>\n",
       "      <td>0.939815</td>\n",
       "      <td>-0.939815</td>\n",
       "      <td>0.256644</td>\n",
       "      <td>6.60</td>\n",
       "      <td>76.055</td>\n",
       "      <td>72.023</td>\n",
       "      <td>76.027277</td>\n",
       "      <td>30</td>\n",
       "      <td>...</td>\n",
       "      <td>0</td>\n",
       "      <td>0</td>\n",
       "      <td>0</td>\n",
       "      <td>0</td>\n",
       "      <td>0</td>\n",
       "      <td>0</td>\n",
       "      <td>0</td>\n",
       "      <td>0</td>\n",
       "      <td>0</td>\n",
       "      <td>1</td>\n",
       "    </tr>\n",
       "  </tbody>\n",
       "</table>\n",
       "<p>5 rows × 210 columns</p>\n",
       "</div>"
      ],
      "text/plain": [
       "   MaxAbsEStateIndex  MaxEStateIndex  MinAbsEStateIndex  MinEStateIndex  \\\n",
       "0           9.222222        9.222222           0.333333       -0.333333   \n",
       "1           4.597222        4.597222           1.652778        1.652778   \n",
       "2           9.000000        9.000000           0.833333       -0.833333   \n",
       "3           3.222222        3.222222           1.250000        1.250000   \n",
       "4           9.229167        9.229167           0.939815       -0.939815   \n",
       "\n",
       "        qed    SPS   MolWt  HeavyAtomMolWt  ExactMolWt  NumValenceElectrons  \\\n",
       "0  0.401031   6.25  59.068          54.028   59.037114                   24   \n",
       "1  0.273315   6.00  46.073          40.025   46.053098                   20   \n",
       "2  0.429883   6.25  60.052          56.020   60.021129                   24   \n",
       "3  0.434794  24.00  71.123          62.051   71.073499                   30   \n",
       "4  0.256644   6.60  76.055          72.023   76.027277                   30   \n",
       "\n",
       "   ...  fr_sulfide  fr_sulfonamd  fr_sulfone  fr_term_acetylene  fr_tetrazole  \\\n",
       "0  ...           0             0           0                  0             0   \n",
       "1  ...           0             0           0                  0             0   \n",
       "2  ...           0             0           0                  0             0   \n",
       "3  ...           0             0           0                  0             0   \n",
       "4  ...           0             0           0                  0             0   \n",
       "\n",
       "   fr_thiazole  fr_thiocyan  fr_thiophene  fr_unbrch_alkane  fr_urea  \n",
       "0            0            0             0                 0        0  \n",
       "1            0            0             0                 0        0  \n",
       "2            0            0             0                 0        0  \n",
       "3            0            0             0                 0        0  \n",
       "4            0            0             0                 0        1  \n",
       "\n",
       "[5 rows x 210 columns]"
      ]
     },
     "execution_count": 33,
     "metadata": {},
     "output_type": "execute_result"
    }
   ],
   "source": [
    "# rdkit記述子を使ってRandomForestで予測した値と比較\n",
    "\n",
    "dict_feat = dict()\n",
    "for desc_name, desc_func in check_tqdm(Descriptors.descList, ipynb=True):\n",
    "    dict_feat[desc_name] = [\n",
    "        desc_func(Chem.MolFromSmiles(smi)) for smi in smiles\n",
    "    ]\n",
    "X = pd.DataFrame.from_dict(dict_feat)\n",
    "X.head()\n"
   ]
  },
  {
   "cell_type": "code",
   "execution_count": 34,
   "metadata": {},
   "outputs": [
    {
     "name": "stdout",
     "output_type": "stream",
     "text": [
      "(1290, 210)\n"
     ]
    },
    {
     "data": {
      "text/html": [
       "<div>\n",
       "<style scoped>\n",
       "    .dataframe tbody tr th:only-of-type {\n",
       "        vertical-align: middle;\n",
       "    }\n",
       "\n",
       "    .dataframe tbody tr th {\n",
       "        vertical-align: top;\n",
       "    }\n",
       "\n",
       "    .dataframe thead th {\n",
       "        text-align: right;\n",
       "    }\n",
       "</style>\n",
       "<table border=\"1\" class=\"dataframe\">\n",
       "  <thead>\n",
       "    <tr style=\"text-align: right;\">\n",
       "      <th></th>\n",
       "      <th>MaxAbsEStateIndex</th>\n",
       "      <th>MaxEStateIndex</th>\n",
       "      <th>MinAbsEStateIndex</th>\n",
       "      <th>MinEStateIndex</th>\n",
       "      <th>qed</th>\n",
       "      <th>SPS</th>\n",
       "      <th>MolWt</th>\n",
       "      <th>HeavyAtomMolWt</th>\n",
       "      <th>ExactMolWt</th>\n",
       "      <th>NumValenceElectrons</th>\n",
       "      <th>...</th>\n",
       "      <th>fr_sulfide</th>\n",
       "      <th>fr_sulfonamd</th>\n",
       "      <th>fr_sulfone</th>\n",
       "      <th>fr_term_acetylene</th>\n",
       "      <th>fr_tetrazole</th>\n",
       "      <th>fr_thiazole</th>\n",
       "      <th>fr_thiocyan</th>\n",
       "      <th>fr_thiophene</th>\n",
       "      <th>fr_unbrch_alkane</th>\n",
       "      <th>fr_urea</th>\n",
       "    </tr>\n",
       "  </thead>\n",
       "  <tbody>\n",
       "    <tr>\n",
       "      <th>0</th>\n",
       "      <td>9.222222</td>\n",
       "      <td>9.222222</td>\n",
       "      <td>0.333333</td>\n",
       "      <td>-0.333333</td>\n",
       "      <td>0.401031</td>\n",
       "      <td>6.25</td>\n",
       "      <td>59.068001</td>\n",
       "      <td>54.028000</td>\n",
       "      <td>59.037113</td>\n",
       "      <td>24.0</td>\n",
       "      <td>...</td>\n",
       "      <td>0.0</td>\n",
       "      <td>0.0</td>\n",
       "      <td>0.0</td>\n",
       "      <td>0.0</td>\n",
       "      <td>0.0</td>\n",
       "      <td>0.0</td>\n",
       "      <td>0.0</td>\n",
       "      <td>0.0</td>\n",
       "      <td>0.0</td>\n",
       "      <td>0.0</td>\n",
       "    </tr>\n",
       "    <tr>\n",
       "      <th>1</th>\n",
       "      <td>4.597222</td>\n",
       "      <td>4.597222</td>\n",
       "      <td>1.652778</td>\n",
       "      <td>1.652778</td>\n",
       "      <td>0.273315</td>\n",
       "      <td>6.00</td>\n",
       "      <td>46.073002</td>\n",
       "      <td>40.025002</td>\n",
       "      <td>46.053097</td>\n",
       "      <td>20.0</td>\n",
       "      <td>...</td>\n",
       "      <td>0.0</td>\n",
       "      <td>0.0</td>\n",
       "      <td>0.0</td>\n",
       "      <td>0.0</td>\n",
       "      <td>0.0</td>\n",
       "      <td>0.0</td>\n",
       "      <td>0.0</td>\n",
       "      <td>0.0</td>\n",
       "      <td>0.0</td>\n",
       "      <td>0.0</td>\n",
       "    </tr>\n",
       "    <tr>\n",
       "      <th>2</th>\n",
       "      <td>9.000000</td>\n",
       "      <td>9.000000</td>\n",
       "      <td>0.833333</td>\n",
       "      <td>-0.833333</td>\n",
       "      <td>0.429883</td>\n",
       "      <td>6.25</td>\n",
       "      <td>60.051998</td>\n",
       "      <td>56.020000</td>\n",
       "      <td>60.021130</td>\n",
       "      <td>24.0</td>\n",
       "      <td>...</td>\n",
       "      <td>0.0</td>\n",
       "      <td>0.0</td>\n",
       "      <td>0.0</td>\n",
       "      <td>0.0</td>\n",
       "      <td>0.0</td>\n",
       "      <td>0.0</td>\n",
       "      <td>0.0</td>\n",
       "      <td>0.0</td>\n",
       "      <td>0.0</td>\n",
       "      <td>0.0</td>\n",
       "    </tr>\n",
       "    <tr>\n",
       "      <th>3</th>\n",
       "      <td>3.222222</td>\n",
       "      <td>3.222222</td>\n",
       "      <td>1.250000</td>\n",
       "      <td>1.250000</td>\n",
       "      <td>0.434794</td>\n",
       "      <td>24.00</td>\n",
       "      <td>71.123001</td>\n",
       "      <td>62.050999</td>\n",
       "      <td>71.073502</td>\n",
       "      <td>30.0</td>\n",
       "      <td>...</td>\n",
       "      <td>0.0</td>\n",
       "      <td>0.0</td>\n",
       "      <td>0.0</td>\n",
       "      <td>0.0</td>\n",
       "      <td>0.0</td>\n",
       "      <td>0.0</td>\n",
       "      <td>0.0</td>\n",
       "      <td>0.0</td>\n",
       "      <td>0.0</td>\n",
       "      <td>0.0</td>\n",
       "    </tr>\n",
       "    <tr>\n",
       "      <th>4</th>\n",
       "      <td>9.229167</td>\n",
       "      <td>9.229167</td>\n",
       "      <td>0.939815</td>\n",
       "      <td>-0.939815</td>\n",
       "      <td>0.256644</td>\n",
       "      <td>6.60</td>\n",
       "      <td>76.055000</td>\n",
       "      <td>72.023003</td>\n",
       "      <td>76.027275</td>\n",
       "      <td>30.0</td>\n",
       "      <td>...</td>\n",
       "      <td>0.0</td>\n",
       "      <td>0.0</td>\n",
       "      <td>0.0</td>\n",
       "      <td>0.0</td>\n",
       "      <td>0.0</td>\n",
       "      <td>0.0</td>\n",
       "      <td>0.0</td>\n",
       "      <td>0.0</td>\n",
       "      <td>0.0</td>\n",
       "      <td>1.0</td>\n",
       "    </tr>\n",
       "  </tbody>\n",
       "</table>\n",
       "<p>5 rows × 210 columns</p>\n",
       "</div>"
      ],
      "text/plain": [
       "   MaxAbsEStateIndex  MaxEStateIndex  MinAbsEStateIndex  MinEStateIndex  \\\n",
       "0           9.222222        9.222222           0.333333       -0.333333   \n",
       "1           4.597222        4.597222           1.652778        1.652778   \n",
       "2           9.000000        9.000000           0.833333       -0.833333   \n",
       "3           3.222222        3.222222           1.250000        1.250000   \n",
       "4           9.229167        9.229167           0.939815       -0.939815   \n",
       "\n",
       "        qed    SPS      MolWt  HeavyAtomMolWt  ExactMolWt  \\\n",
       "0  0.401031   6.25  59.068001       54.028000   59.037113   \n",
       "1  0.273315   6.00  46.073002       40.025002   46.053097   \n",
       "2  0.429883   6.25  60.051998       56.020000   60.021130   \n",
       "3  0.434794  24.00  71.123001       62.050999   71.073502   \n",
       "4  0.256644   6.60  76.055000       72.023003   76.027275   \n",
       "\n",
       "   NumValenceElectrons  ...  fr_sulfide  fr_sulfonamd  fr_sulfone  \\\n",
       "0                 24.0  ...         0.0           0.0         0.0   \n",
       "1                 20.0  ...         0.0           0.0         0.0   \n",
       "2                 24.0  ...         0.0           0.0         0.0   \n",
       "3                 30.0  ...         0.0           0.0         0.0   \n",
       "4                 30.0  ...         0.0           0.0         0.0   \n",
       "\n",
       "   fr_term_acetylene  fr_tetrazole  fr_thiazole  fr_thiocyan  fr_thiophene  \\\n",
       "0                0.0           0.0          0.0          0.0           0.0   \n",
       "1                0.0           0.0          0.0          0.0           0.0   \n",
       "2                0.0           0.0          0.0          0.0           0.0   \n",
       "3                0.0           0.0          0.0          0.0           0.0   \n",
       "4                0.0           0.0          0.0          0.0           0.0   \n",
       "\n",
       "   fr_unbrch_alkane  fr_urea  \n",
       "0               0.0      0.0  \n",
       "1               0.0      0.0  \n",
       "2               0.0      0.0  \n",
       "3               0.0      0.0  \n",
       "4               0.0      1.0  \n",
       "\n",
       "[5 rows x 210 columns]"
      ]
     },
     "execution_count": 34,
     "metadata": {},
     "output_type": "execute_result"
    }
   ],
   "source": [
    "X = X.loc[:, ~(X.isnull().any() | np.isinf(X).any())].astype(np.float32)\n",
    "print(X.shape)\n",
    "X.head()\n"
   ]
  },
  {
   "cell_type": "code",
   "execution_count": 35,
   "metadata": {},
   "outputs": [
    {
     "name": "stderr",
     "output_type": "stream",
     "text": [
      "/Users/yu9824/miniforge3/envs/torch39/lib/python3.9/site-packages/sklearn/base.py:1152: DataConversionWarning: A column-vector y was passed when a 1d array was expected. Please change the shape of y to (n_samples,), for example using ravel().\n",
      "  return fit_method(estimator, *args, **kwargs)\n"
     ]
    },
    {
     "data": {
      "text/plain": [
       "<Axes: xlabel='$y_\\\\mathrm{true}$', ylabel='$y_\\\\mathrm{pred}$'>"
      ]
     },
     "execution_count": 35,
     "metadata": {},
     "output_type": "execute_result"
    },
    {
     "data": {
      "image/png": "[encoded data removed]",
      "text/plain": [
       "<Figure size 640x480 with 1 Axes>"
      ]
     },
     "metadata": {},
     "output_type": "display_data"
    }
   ],
   "source": [
    "X_train, X_test, y_train, y_test = train_test_split(\n",
    "    X, np.array(y) * y_std + y_mean, test_size=0.2, random_state=seed\n",
    ")\n",
    "rf = RandomForestRegressor(random_state=seed, n_jobs=-1)\n",
    "rf.fit(X_train, y_train)\n",
    "y_pred_on_test = rf.predict(X_test)\n",
    "y_pred_on_train = rf.predict(X_train)\n",
    "yyplot(y_train, y_pred_on_train, y_test, y_pred_on_test)\n"
   ]
  }
 ],
 "metadata": {
  "kernelspec": {
   "display_name": "pytorch39",
   "language": "python",
   "name": "python3"
  },
  "language_info": {
   "codemirror_mode": {
    "name": "ipython",
    "version": 3
   },
   "file_extension": ".py",
   "mimetype": "text/x-python",
   "name": "python",
   "nbconvert_exporter": "python",
   "pygments_lexer": "ipython3",
   "version": "3.9.18"
  }
 },
 "nbformat": 4,
 "nbformat_minor": 2
}

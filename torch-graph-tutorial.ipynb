{
 "cells": [
  {
   "cell_type": "code",
   "execution_count": 1,
   "metadata": {},
   "outputs": [],
   "source": [
    "import os\n",
    "\n",
    "# to avoid the following error when using MPS (GPU in ARM architecture)):\n",
    "# NotImplementedError: The operator 'aten::scatter_reduce.two_out'\n",
    "# is not currently implemented for the MPS device. If you want\n",
    "# this op to be added in priority during the prototype phase of\n",
    "# this feature, please comment on\n",
    "# https://github.com/pytorch/pytorch/issues/77764.\n",
    "# As a temporary fix, you can set the environment variable\n",
    "# `PYTORCH_ENABLE_MPS_FALLBACK=1` to use the CPU as\n",
    "# a fallback for this op.\n",
    "# WARNING: this will be slower than running natively on MPS.\n",
    "os.environ[\"PYTORCH_ENABLE_MPS_FALLBACK\"] = \"1\"  # before importing torch\n"
   ]
  },
  {
   "cell_type": "markdown",
   "metadata": {},
   "source": [
    "\\# TODO\n",
    "\n",
    "- BatchNormalization?\n",
    "- ハイパーパラメータチューニング (optuna?)\n",
    "- モデルの解釈 (tanhやpoolingについて)\n",
    "- dropoutの導入？←過学習対策\n",
    "- autumentation?\n",
    "- モデルの途中保存 (エポック毎?)"
   ]
  },
  {
   "cell_type": "code",
   "execution_count": 2,
   "metadata": {},
   "outputs": [],
   "source": [
    "import pandas as pd\n",
    "import rdkit\n",
    "from rdkit import Chem\n",
    "from sklearn.model_selection import train_test_split\n",
    "\n",
    "import torch\n",
    "import torch_geometric\n",
    "import torch_geometric.nn\n",
    "import torch_geometric.data\n",
    "import torch_geometric.loader\n",
    "\n",
    "from src.data import GraphDataset\n",
    "from src.model import GCN\n",
    "from src.torch_utils import fit, eval_loss, evaluate_history, torch_seed\n"
   ]
  },
  {
   "cell_type": "code",
   "execution_count": 3,
   "metadata": {},
   "outputs": [
    {
     "data": {
      "text/plain": [
       "'2.1.0'"
      ]
     },
     "execution_count": 3,
     "metadata": {},
     "output_type": "execute_result"
    }
   ],
   "source": [
    "torch.__version__\n"
   ]
  },
  {
   "cell_type": "code",
   "execution_count": 4,
   "metadata": {},
   "outputs": [
    {
     "data": {
      "text/plain": [
       "'2.4.0'"
      ]
     },
     "execution_count": 4,
     "metadata": {},
     "output_type": "execute_result"
    }
   ],
   "source": [
    "torch_geometric.__version__\n"
   ]
  },
  {
   "cell_type": "code",
   "execution_count": 5,
   "metadata": {},
   "outputs": [
    {
     "data": {
      "text/plain": [
       "'2023.09.1'"
      ]
     },
     "execution_count": 5,
     "metadata": {},
     "output_type": "execute_result"
    }
   ],
   "source": [
    "rdkit.__version__\n"
   ]
  },
  {
   "cell_type": "code",
   "execution_count": 6,
   "metadata": {},
   "outputs": [],
   "source": [
    "seed = 334\n",
    "batch_size = 256\n",
    "\n",
    "torch_seed(seed)\n"
   ]
  },
  {
   "cell_type": "code",
   "execution_count": 7,
   "metadata": {},
   "outputs": [
    {
     "name": "stdout",
     "output_type": "stream",
     "text": [
      "(9982, 25)\n"
     ]
    },
    {
     "data": {
      "text/html": [
       "<div>\n",
       "<style scoped>\n",
       "    .dataframe tbody tr th:only-of-type {\n",
       "        vertical-align: middle;\n",
       "    }\n",
       "\n",
       "    .dataframe tbody tr th {\n",
       "        vertical-align: top;\n",
       "    }\n",
       "\n",
       "    .dataframe thead th {\n",
       "        text-align: right;\n",
       "    }\n",
       "</style>\n",
       "<table border=\"1\" class=\"dataframe\">\n",
       "  <thead>\n",
       "    <tr style=\"text-align: right;\">\n",
       "      <th></th>\n",
       "      <th>Name</th>\n",
       "      <th>InChI</th>\n",
       "      <th>InChIKey</th>\n",
       "      <th>SMILES</th>\n",
       "      <th>Solubility</th>\n",
       "      <th>SD</th>\n",
       "      <th>Ocurrences</th>\n",
       "      <th>Group</th>\n",
       "      <th>MolWt</th>\n",
       "      <th>MolLogP</th>\n",
       "      <th>...</th>\n",
       "      <th>NumRotatableBonds</th>\n",
       "      <th>NumValenceElectrons</th>\n",
       "      <th>NumAromaticRings</th>\n",
       "      <th>NumSaturatedRings</th>\n",
       "      <th>NumAliphaticRings</th>\n",
       "      <th>RingCount</th>\n",
       "      <th>TPSA</th>\n",
       "      <th>LabuteASA</th>\n",
       "      <th>BalabanJ</th>\n",
       "      <th>BertzCT</th>\n",
       "    </tr>\n",
       "    <tr>\n",
       "      <th>ID</th>\n",
       "      <th></th>\n",
       "      <th></th>\n",
       "      <th></th>\n",
       "      <th></th>\n",
       "      <th></th>\n",
       "      <th></th>\n",
       "      <th></th>\n",
       "      <th></th>\n",
       "      <th></th>\n",
       "      <th></th>\n",
       "      <th></th>\n",
       "      <th></th>\n",
       "      <th></th>\n",
       "      <th></th>\n",
       "      <th></th>\n",
       "      <th></th>\n",
       "      <th></th>\n",
       "      <th></th>\n",
       "      <th></th>\n",
       "      <th></th>\n",
       "      <th></th>\n",
       "    </tr>\n",
       "  </thead>\n",
       "  <tbody>\n",
       "    <tr>\n",
       "      <th>A-3</th>\n",
       "      <td>N,N,N-trimethyloctadecan-1-aminium bromide</td>\n",
       "      <td>InChI=1S/C21H46N.BrH/c1-5-6-7-8-9-10-11-12-13-...</td>\n",
       "      <td>SZEMGTQCPRNXEG-UHFFFAOYSA-M</td>\n",
       "      <td>[Br-].CCCCCCCCCCCCCCCCCC[N+](C)(C)C</td>\n",
       "      <td>-3.616127</td>\n",
       "      <td>0.0</td>\n",
       "      <td>1</td>\n",
       "      <td>G1</td>\n",
       "      <td>392.510</td>\n",
       "      <td>3.9581</td>\n",
       "      <td>...</td>\n",
       "      <td>17.0</td>\n",
       "      <td>142.0</td>\n",
       "      <td>0.0</td>\n",
       "      <td>0.0</td>\n",
       "      <td>0.0</td>\n",
       "      <td>0.0</td>\n",
       "      <td>0.00</td>\n",
       "      <td>158.520601</td>\n",
       "      <td>0.000000e+00</td>\n",
       "      <td>210.377334</td>\n",
       "    </tr>\n",
       "    <tr>\n",
       "      <th>A-4</th>\n",
       "      <td>Benzo[cd]indol-2(1H)-one</td>\n",
       "      <td>InChI=1S/C11H7NO/c13-11-8-5-1-3-7-4-2-6-9(12-1...</td>\n",
       "      <td>GPYLCFQEKPUWLD-UHFFFAOYSA-N</td>\n",
       "      <td>O=C1Nc2cccc3cccc1c23</td>\n",
       "      <td>-3.254767</td>\n",
       "      <td>0.0</td>\n",
       "      <td>1</td>\n",
       "      <td>G1</td>\n",
       "      <td>169.183</td>\n",
       "      <td>2.4055</td>\n",
       "      <td>...</td>\n",
       "      <td>0.0</td>\n",
       "      <td>62.0</td>\n",
       "      <td>2.0</td>\n",
       "      <td>0.0</td>\n",
       "      <td>1.0</td>\n",
       "      <td>3.0</td>\n",
       "      <td>29.10</td>\n",
       "      <td>75.183563</td>\n",
       "      <td>2.582996e+00</td>\n",
       "      <td>511.229248</td>\n",
       "    </tr>\n",
       "    <tr>\n",
       "      <th>A-5</th>\n",
       "      <td>4-chlorobenzaldehyde</td>\n",
       "      <td>InChI=1S/C7H5ClO/c8-7-3-1-6(5-9)2-4-7/h1-5H</td>\n",
       "      <td>AVPYQKSLYISFPO-UHFFFAOYSA-N</td>\n",
       "      <td>Clc1ccc(C=O)cc1</td>\n",
       "      <td>-2.177078</td>\n",
       "      <td>0.0</td>\n",
       "      <td>1</td>\n",
       "      <td>G1</td>\n",
       "      <td>140.569</td>\n",
       "      <td>2.1525</td>\n",
       "      <td>...</td>\n",
       "      <td>1.0</td>\n",
       "      <td>46.0</td>\n",
       "      <td>1.0</td>\n",
       "      <td>0.0</td>\n",
       "      <td>0.0</td>\n",
       "      <td>1.0</td>\n",
       "      <td>17.07</td>\n",
       "      <td>58.261134</td>\n",
       "      <td>3.009782e+00</td>\n",
       "      <td>202.661065</td>\n",
       "    </tr>\n",
       "    <tr>\n",
       "      <th>A-8</th>\n",
       "      <td>zinc bis[2-hydroxy-3,5-bis(1-phenylethyl)benzo...</td>\n",
       "      <td>InChI=1S/2C23H22O3.Zn/c2*1-15(17-9-5-3-6-10-17...</td>\n",
       "      <td>XTUPUYCJWKHGSW-UHFFFAOYSA-L</td>\n",
       "      <td>[Zn++].CC(c1ccccc1)c2cc(C(C)c3ccccc3)c(O)c(c2)...</td>\n",
       "      <td>-3.924409</td>\n",
       "      <td>0.0</td>\n",
       "      <td>1</td>\n",
       "      <td>G1</td>\n",
       "      <td>756.226</td>\n",
       "      <td>8.1161</td>\n",
       "      <td>...</td>\n",
       "      <td>10.0</td>\n",
       "      <td>264.0</td>\n",
       "      <td>6.0</td>\n",
       "      <td>0.0</td>\n",
       "      <td>0.0</td>\n",
       "      <td>6.0</td>\n",
       "      <td>120.72</td>\n",
       "      <td>323.755434</td>\n",
       "      <td>2.322963e-07</td>\n",
       "      <td>1964.648666</td>\n",
       "    </tr>\n",
       "    <tr>\n",
       "      <th>A-9</th>\n",
       "      <td>4-({4-[bis(oxiran-2-ylmethyl)amino]phenyl}meth...</td>\n",
       "      <td>InChI=1S/C25H30N2O4/c1-5-20(26(10-22-14-28-22)...</td>\n",
       "      <td>FAUAZXVRLVIARB-UHFFFAOYSA-N</td>\n",
       "      <td>C1OC1CN(CC2CO2)c3ccc(Cc4ccc(cc4)N(CC5CO5)CC6CO...</td>\n",
       "      <td>-4.662065</td>\n",
       "      <td>0.0</td>\n",
       "      <td>1</td>\n",
       "      <td>G1</td>\n",
       "      <td>422.525</td>\n",
       "      <td>2.4854</td>\n",
       "      <td>...</td>\n",
       "      <td>12.0</td>\n",
       "      <td>164.0</td>\n",
       "      <td>2.0</td>\n",
       "      <td>4.0</td>\n",
       "      <td>4.0</td>\n",
       "      <td>6.0</td>\n",
       "      <td>56.60</td>\n",
       "      <td>183.183268</td>\n",
       "      <td>1.084427e+00</td>\n",
       "      <td>769.899934</td>\n",
       "    </tr>\n",
       "  </tbody>\n",
       "</table>\n",
       "<p>5 rows × 25 columns</p>\n",
       "</div>"
      ],
      "text/plain": [
       "                                                  Name  \\\n",
       "ID                                                       \n",
       "A-3         N,N,N-trimethyloctadecan-1-aminium bromide   \n",
       "A-4                           Benzo[cd]indol-2(1H)-one   \n",
       "A-5                               4-chlorobenzaldehyde   \n",
       "A-8  zinc bis[2-hydroxy-3,5-bis(1-phenylethyl)benzo...   \n",
       "A-9  4-({4-[bis(oxiran-2-ylmethyl)amino]phenyl}meth...   \n",
       "\n",
       "                                                 InChI  \\\n",
       "ID                                                       \n",
       "A-3  InChI=1S/C21H46N.BrH/c1-5-6-7-8-9-10-11-12-13-...   \n",
       "A-4  InChI=1S/C11H7NO/c13-11-8-5-1-3-7-4-2-6-9(12-1...   \n",
       "A-5        InChI=1S/C7H5ClO/c8-7-3-1-6(5-9)2-4-7/h1-5H   \n",
       "A-8  InChI=1S/2C23H22O3.Zn/c2*1-15(17-9-5-3-6-10-17...   \n",
       "A-9  InChI=1S/C25H30N2O4/c1-5-20(26(10-22-14-28-22)...   \n",
       "\n",
       "                        InChIKey  \\\n",
       "ID                                 \n",
       "A-3  SZEMGTQCPRNXEG-UHFFFAOYSA-M   \n",
       "A-4  GPYLCFQEKPUWLD-UHFFFAOYSA-N   \n",
       "A-5  AVPYQKSLYISFPO-UHFFFAOYSA-N   \n",
       "A-8  XTUPUYCJWKHGSW-UHFFFAOYSA-L   \n",
       "A-9  FAUAZXVRLVIARB-UHFFFAOYSA-N   \n",
       "\n",
       "                                                SMILES  Solubility   SD  \\\n",
       "ID                                                                        \n",
       "A-3                [Br-].CCCCCCCCCCCCCCCCCC[N+](C)(C)C   -3.616127  0.0   \n",
       "A-4                               O=C1Nc2cccc3cccc1c23   -3.254767  0.0   \n",
       "A-5                                    Clc1ccc(C=O)cc1   -2.177078  0.0   \n",
       "A-8  [Zn++].CC(c1ccccc1)c2cc(C(C)c3ccccc3)c(O)c(c2)...   -3.924409  0.0   \n",
       "A-9  C1OC1CN(CC2CO2)c3ccc(Cc4ccc(cc4)N(CC5CO5)CC6CO...   -4.662065  0.0   \n",
       "\n",
       "     Ocurrences Group    MolWt  MolLogP  ...  NumRotatableBonds  \\\n",
       "ID                                       ...                      \n",
       "A-3           1    G1  392.510   3.9581  ...               17.0   \n",
       "A-4           1    G1  169.183   2.4055  ...                0.0   \n",
       "A-5           1    G1  140.569   2.1525  ...                1.0   \n",
       "A-8           1    G1  756.226   8.1161  ...               10.0   \n",
       "A-9           1    G1  422.525   2.4854  ...               12.0   \n",
       "\n",
       "     NumValenceElectrons  NumAromaticRings  NumSaturatedRings  \\\n",
       "ID                                                              \n",
       "A-3                142.0               0.0                0.0   \n",
       "A-4                 62.0               2.0                0.0   \n",
       "A-5                 46.0               1.0                0.0   \n",
       "A-8                264.0               6.0                0.0   \n",
       "A-9                164.0               2.0                4.0   \n",
       "\n",
       "     NumAliphaticRings  RingCount    TPSA   LabuteASA      BalabanJ  \\\n",
       "ID                                                                    \n",
       "A-3                0.0        0.0    0.00  158.520601  0.000000e+00   \n",
       "A-4                1.0        3.0   29.10   75.183563  2.582996e+00   \n",
       "A-5                0.0        1.0   17.07   58.261134  3.009782e+00   \n",
       "A-8                0.0        6.0  120.72  323.755434  2.322963e-07   \n",
       "A-9                4.0        6.0   56.60  183.183268  1.084427e+00   \n",
       "\n",
       "         BertzCT  \n",
       "ID                \n",
       "A-3   210.377334  \n",
       "A-4   511.229248  \n",
       "A-5   202.661065  \n",
       "A-8  1964.648666  \n",
       "A-9   769.899934  \n",
       "\n",
       "[5 rows x 25 columns]"
      ]
     },
     "execution_count": 7,
     "metadata": {},
     "output_type": "execute_result"
    }
   ],
   "source": [
    "df_raw = pd.read_csv(\"./data/curated-solubility-dataset.csv\", index_col=0)\n",
    "# 計算時間短縮\n",
    "# df_raw = df_raw.iloc[:1000]\n",
    "print(df_raw.shape)\n",
    "df_raw.head()\n"
   ]
  },
  {
   "cell_type": "code",
   "execution_count": 8,
   "metadata": {},
   "outputs": [],
   "source": [
    "smiles = df_raw[\"SMILES\"]\n",
    "y = df_raw[\"Solubility\"]\n"
   ]
  },
  {
   "cell_type": "code",
   "execution_count": 9,
   "metadata": {},
   "outputs": [],
   "source": [
    "# scaling\n",
    "y_mean = y.mean()\n",
    "y_std = y.std(ddof=1)\n"
   ]
  },
  {
   "cell_type": "code",
   "execution_count": 10,
   "metadata": {},
   "outputs": [],
   "source": [
    "smiles = smiles.tolist()\n",
    "y = ((y - y_mean) / y_std).tolist()\n"
   ]
  },
  {
   "cell_type": "code",
   "execution_count": 11,
   "metadata": {},
   "outputs": [],
   "source": [
    "mols = map(Chem.MolFromSmiles, smiles)\n"
   ]
  },
  {
   "cell_type": "code",
   "execution_count": 12,
   "metadata": {},
   "outputs": [
    {
     "name": "stderr",
     "output_type": "stream",
     "text": [
      "[07:17:16] WARNING: not removing hydrogen atom without neighbors\n",
      "[07:17:16] WARNING: not removing hydrogen atom without neighbors\n",
      "[07:17:16] WARNING: not removing hydrogen atom without neighbors\n",
      "[07:17:16] WARNING: not removing hydrogen atom without neighbors\n",
      "[07:17:16] WARNING: not removing hydrogen atom without neighbors\n",
      "[07:17:16] WARNING: not removing hydrogen atom without neighbors\n",
      "[07:17:16] WARNING: not removing hydrogen atom without neighbors\n",
      "[07:17:16] WARNING: not removing hydrogen atom without neighbors\n",
      "[07:17:16] WARNING: not removing hydrogen atom without neighbors\n",
      "[07:17:16] WARNING: not removing hydrogen atom without neighbors\n",
      "[07:17:16] WARNING: not removing hydrogen atom without neighbors\n",
      "[07:17:16] WARNING: not removing hydrogen atom without neighbors\n",
      "[07:17:16] WARNING: not removing hydrogen atom without neighbors\n",
      "[07:17:16] WARNING: not removing hydrogen atom without neighbors\n",
      "[07:17:16] WARNING: not removing hydrogen atom without neighbors\n",
      "[07:17:16] WARNING: not removing hydrogen atom without neighbors\n",
      "[07:17:16] WARNING: not removing hydrogen atom without neighbors\n",
      "[07:17:16] WARNING: not removing hydrogen atom without neighbors\n",
      "[07:17:16] WARNING: not removing hydrogen atom without neighbors\n",
      "[07:17:16] WARNING: not removing hydrogen atom without neighbors\n",
      "[07:17:16] WARNING: not removing hydrogen atom without neighbors\n",
      "[07:17:16] WARNING: not removing hydrogen atom without neighbors\n",
      "[07:17:16] WARNING: not removing hydrogen atom without neighbors\n",
      "[07:17:16] WARNING: not removing hydrogen atom without neighbors\n",
      "[07:17:16] WARNING: not removing hydrogen atom without neighbors\n",
      "[07:17:16] WARNING: not removing hydrogen atom without neighbors\n",
      "[07:17:16] WARNING: not removing hydrogen atom without neighbors\n",
      "[07:17:16] WARNING: not removing hydrogen atom without neighbors\n",
      "[07:17:16] WARNING: not removing hydrogen atom without neighbors\n",
      "[07:17:16] WARNING: not removing hydrogen atom without neighbors\n",
      "[07:17:16] WARNING: not removing hydrogen atom without neighbors\n",
      "[07:17:16] WARNING: not removing hydrogen atom without neighbors\n",
      "[07:17:16] WARNING: not removing hydrogen atom without neighbors\n",
      "[07:17:16] WARNING: not removing hydrogen atom without neighbors\n",
      "[07:17:16] WARNING: not removing hydrogen atom without neighbors\n",
      "[07:17:16] WARNING: not removing hydrogen atom without neighbors\n",
      "[07:17:16] WARNING: not removing hydrogen atom without neighbors\n",
      "[07:17:16] WARNING: not removing hydrogen atom without neighbors\n",
      "[07:17:16] WARNING: not removing hydrogen atom without neighbors\n",
      "[07:17:16] WARNING: not removing hydrogen atom without neighbors\n",
      "[07:17:16] WARNING: not removing hydrogen atom without neighbors\n",
      "[07:17:16] WARNING: not removing hydrogen atom without neighbors\n",
      "[07:17:16] WARNING: not removing hydrogen atom without neighbors\n",
      "[07:17:16] WARNING: not removing hydrogen atom without neighbors\n",
      "[07:17:16] WARNING: not removing hydrogen atom without neighbors\n",
      "[07:17:16] WARNING: not removing hydrogen atom without neighbors\n",
      "[07:17:16] WARNING: not removing hydrogen atom without neighbors\n",
      "[07:17:16] WARNING: not removing hydrogen atom without neighbors\n",
      "[07:17:16] WARNING: not removing hydrogen atom without neighbors\n",
      "[07:17:16] WARNING: not removing hydrogen atom without neighbors\n",
      "[07:17:16] WARNING: not removing hydrogen atom without neighbors\n",
      "[07:17:16] WARNING: not removing hydrogen atom without neighbors\n",
      "[07:17:16] WARNING: not removing hydrogen atom without neighbors\n",
      "[07:17:16] WARNING: not removing hydrogen atom without neighbors\n",
      "[07:17:16] WARNING: not removing hydrogen atom without neighbors\n",
      "[07:17:16] WARNING: not removing hydrogen atom without neighbors\n",
      "[07:17:16] WARNING: not removing hydrogen atom without neighbors\n",
      "[07:17:16] WARNING: not removing hydrogen atom without neighbors\n",
      "[07:17:16] WARNING: not removing hydrogen atom without neighbors\n",
      "[07:17:16] WARNING: not removing hydrogen atom without neighbors\n",
      "[07:17:16] WARNING: not removing hydrogen atom without neighbors\n",
      "[07:17:16] WARNING: not removing hydrogen atom without neighbors\n",
      "[07:17:16] WARNING: not removing hydrogen atom without neighbors\n",
      "[07:17:16] WARNING: not removing hydrogen atom without neighbors\n",
      "[07:17:16] WARNING: not removing hydrogen atom without neighbors\n"
     ]
    },
    {
     "data": {
      "text/plain": [
       "GraphDataset(9982)"
      ]
     },
     "execution_count": 12,
     "metadata": {},
     "output_type": "execute_result"
    }
   ],
   "source": [
    "dataset = GraphDataset(mols, y, n_jobs=-1)\n",
    "dataset\n"
   ]
  },
  {
   "cell_type": "code",
   "execution_count": 13,
   "metadata": {},
   "outputs": [
    {
     "data": {
      "text/plain": [
       "<torch_geometric.loader.dataloader.DataLoader at 0x156fedcd0>"
      ]
     },
     "execution_count": 13,
     "metadata": {},
     "output_type": "execute_result"
    }
   ],
   "source": [
    "# dataloader = torch.utils.data.DataLoader(dataset, batch_size=32, shuffle=True)\n",
    "dataloader = torch_geometric.loader.DataLoader(\n",
    "    dataset, batch_size=batch_size, shuffle=True\n",
    ")\n",
    "# the following is deprecated\n",
    "# dataloader = torch_geometric.data.DataLoader(\n",
    "#     dataset, batch_size=batch_size, shuffle=True\n",
    "# )\n",
    "dataloader\n"
   ]
  },
  {
   "cell_type": "code",
   "execution_count": 14,
   "metadata": {},
   "outputs": [
    {
     "name": "stdout",
     "output_type": "stream",
     "text": [
      "7985 1997\n"
     ]
    }
   ],
   "source": [
    "dataset_train, dataset_test = train_test_split(\n",
    "    dataset, test_size=0.2, random_state=seed\n",
    ")\n",
    "print(len(dataset_train), len(dataset_test))\n"
   ]
  },
  {
   "cell_type": "code",
   "execution_count": 15,
   "metadata": {},
   "outputs": [],
   "source": [
    "dataloader_train = torch_geometric.loader.DataLoader(\n",
    "    dataset_train, batch_size=batch_size, shuffle=True\n",
    ")\n",
    "dataloader_test = torch_geometric.loader.DataLoader(\n",
    "    dataset_test, batch_size=batch_size, shuffle=False\n",
    ")\n"
   ]
  },
  {
   "cell_type": "code",
   "execution_count": 16,
   "metadata": {},
   "outputs": [
    {
     "name": "stdout",
     "output_type": "stream",
     "text": [
      "GCN(\n",
      "  (initial_conv): GCNConv(30, 64)\n",
      "  (conv1): GCNConv(64, 64)\n",
      "  (conv2): GCNConv(64, 64)\n",
      "  (conv3): GCNConv(64, 64)\n",
      "  (out): Linear(in_features=128, out_features=1, bias=True)\n",
      ")\n"
     ]
    }
   ],
   "source": [
    "model = GCN(in_channels=dataset_train[0].x.shape[1], embedding_size=64)\n",
    "print(model)\n"
   ]
  },
  {
   "cell_type": "code",
   "execution_count": 17,
   "metadata": {},
   "outputs": [],
   "source": [
    "data = dataset_train[0]\n"
   ]
  },
  {
   "cell_type": "code",
   "execution_count": 18,
   "metadata": {},
   "outputs": [
    {
     "name": "stdout",
     "output_type": "stream",
     "text": [
      "+-------------------------+---------------+----------------+----------+\n",
      "| Layer                   | Input Shape   | Output Shape   | #Param   |\n",
      "|-------------------------+---------------+----------------+----------|\n",
      "| GCN                     | [11, 11]      | [1]            | 14,593   |\n",
      "| ├─(initial_conv)GCNConv |               | [11, 64]       | 1,984    |\n",
      "| ├─(conv1)GCNConv        |               | [11, 64]       | 4,160    |\n",
      "| ├─(conv2)GCNConv        |               | [11, 64]       | 4,160    |\n",
      "| ├─(conv3)GCNConv        |               | [11, 64]       | 4,160    |\n",
      "| ├─(out)Linear           | [1, 128]      | [1, 1]         | 129      |\n",
      "+-------------------------+---------------+----------------+----------+\n"
     ]
    }
   ],
   "source": [
    "# Need 'tabulate' package\n",
    "print(torch_geometric.nn.summary(model, data))\n"
   ]
  },
  {
   "cell_type": "code",
   "execution_count": 19,
   "metadata": {},
   "outputs": [
    {
     "data": {
      "text/plain": [
       "tensor([-0.1715], grad_fn=<ViewBackward0>)"
      ]
     },
     "execution_count": 19,
     "metadata": {},
     "output_type": "execute_result"
    }
   ],
   "source": [
    "model(data)\n"
   ]
  },
  {
   "cell_type": "code",
   "execution_count": 20,
   "metadata": {},
   "outputs": [],
   "source": [
    "device = torch.device(\"mps\" if torch.backends.mps.is_available() else \"cpu\")\n"
   ]
  },
  {
   "cell_type": "code",
   "execution_count": 21,
   "metadata": {},
   "outputs": [
    {
     "data": {
      "application/vnd.jupyter.widget-view+json": {
       "model_id": "71fd5a18347249e0a83734cbcb3c6204",
       "version_major": 2,
       "version_minor": 0
      },
      "text/plain": [
       "  0%|          | 0/32 [00:00<?, ?it/s]"
      ]
     },
     "metadata": {},
     "output_type": "display_data"
    },
    {
     "name": "stderr",
     "output_type": "stream",
     "text": [
      "/Users/yu9824/miniforge3/envs/torch39/lib/python3.9/site-packages/torch_geometric/utils/scatter.py:94: UserWarning: The operator 'aten::scatter_reduce.two_out' is not currently supported on the MPS backend and will fall back to run on the CPU. This may have performance implications. (Triggered internally at /Users/runner/work/_temp/anaconda/conda-bld/pytorch_1695391825142/work/aten/src/ATen/mps/MPSFallback.mm:13.)\n",
      "  return src.new_zeros(size).scatter_reduce_(\n"
     ]
    },
    {
     "name": "stdout",
     "output_type": "stream",
     "text": [
      "Epoch [1/10], loss: 0.80411 val_loss: 0.72426, \n"
     ]
    },
    {
     "data": {
      "application/vnd.jupyter.widget-view+json": {
       "model_id": "4f44932df0c2466b9348a21278471eda",
       "version_major": 2,
       "version_minor": 0
      },
      "text/plain": [
       "  0%|          | 0/32 [00:00<?, ?it/s]"
      ]
     },
     "metadata": {},
     "output_type": "display_data"
    },
    {
     "name": "stdout",
     "output_type": "stream",
     "text": [
      "Epoch [2/10], loss: 0.61204 val_loss: 0.60290, \n"
     ]
    },
    {
     "data": {
      "application/vnd.jupyter.widget-view+json": {
       "model_id": "4c25adf345d0490c9dc44437de305e66",
       "version_major": 2,
       "version_minor": 0
      },
      "text/plain": [
       "  0%|          | 0/32 [00:00<?, ?it/s]"
      ]
     },
     "metadata": {},
     "output_type": "display_data"
    },
    {
     "name": "stdout",
     "output_type": "stream",
     "text": [
      "Epoch [3/10], loss: 0.53517 val_loss: 0.54612, \n"
     ]
    },
    {
     "data": {
      "application/vnd.jupyter.widget-view+json": {
       "model_id": "efdd837c0b684f57990646e87d0b2cfa",
       "version_major": 2,
       "version_minor": 0
      },
      "text/plain": [
       "  0%|          | 0/32 [00:00<?, ?it/s]"
      ]
     },
     "metadata": {},
     "output_type": "display_data"
    },
    {
     "name": "stdout",
     "output_type": "stream",
     "text": [
      "Epoch [4/10], loss: 0.49333 val_loss: 0.53875, \n"
     ]
    },
    {
     "data": {
      "application/vnd.jupyter.widget-view+json": {
       "model_id": "a630f817e1b64ea09b8db47ff583cc39",
       "version_major": 2,
       "version_minor": 0
      },
      "text/plain": [
       "  0%|          | 0/32 [00:00<?, ?it/s]"
      ]
     },
     "metadata": {},
     "output_type": "display_data"
    },
    {
     "name": "stdout",
     "output_type": "stream",
     "text": [
      "Epoch [5/10], loss: 0.48017 val_loss: 0.48904, \n"
     ]
    },
    {
     "data": {
      "application/vnd.jupyter.widget-view+json": {
       "model_id": "135f3f7035dc41419515f8b7632dfa09",
       "version_major": 2,
       "version_minor": 0
      },
      "text/plain": [
       "  0%|          | 0/32 [00:00<?, ?it/s]"
      ]
     },
     "metadata": {},
     "output_type": "display_data"
    },
    {
     "name": "stdout",
     "output_type": "stream",
     "text": [
      "Epoch [6/10], loss: 0.44538 val_loss: 0.45540, \n"
     ]
    },
    {
     "data": {
      "application/vnd.jupyter.widget-view+json": {
       "model_id": "1704eea0aab44a36b3b2440cfbc141f3",
       "version_major": 2,
       "version_minor": 0
      },
      "text/plain": [
       "  0%|          | 0/32 [00:00<?, ?it/s]"
      ]
     },
     "metadata": {},
     "output_type": "display_data"
    },
    {
     "name": "stdout",
     "output_type": "stream",
     "text": [
      "Epoch [7/10], loss: 0.41694 val_loss: 0.43769, \n"
     ]
    },
    {
     "data": {
      "application/vnd.jupyter.widget-view+json": {
       "model_id": "8cbc34653b1f417882e2b3cf03350b17",
       "version_major": 2,
       "version_minor": 0
      },
      "text/plain": [
       "  0%|          | 0/32 [00:00<?, ?it/s]"
      ]
     },
     "metadata": {},
     "output_type": "display_data"
    },
    {
     "name": "stdout",
     "output_type": "stream",
     "text": [
      "Epoch [8/10], loss: 0.40490 val_loss: 0.42461, \n"
     ]
    },
    {
     "data": {
      "application/vnd.jupyter.widget-view+json": {
       "model_id": "8fd5889c439a488da322f9d9fc2077ec",
       "version_major": 2,
       "version_minor": 0
      },
      "text/plain": [
       "  0%|          | 0/32 [00:00<?, ?it/s]"
      ]
     },
     "metadata": {},
     "output_type": "display_data"
    },
    {
     "name": "stdout",
     "output_type": "stream",
     "text": [
      "Epoch [9/10], loss: 0.38394 val_loss: 0.41872, \n"
     ]
    },
    {
     "data": {
      "application/vnd.jupyter.widget-view+json": {
       "model_id": "37d0658e210848b9adeeff43142f0a02",
       "version_major": 2,
       "version_minor": 0
      },
      "text/plain": [
       "  0%|          | 0/32 [00:00<?, ?it/s]"
      ]
     },
     "metadata": {},
     "output_type": "display_data"
    },
    {
     "name": "stdout",
     "output_type": "stream",
     "text": [
      "Epoch [10/10], loss: 0.37296 val_loss: 0.41696, \n"
     ]
    }
   ],
   "source": [
    "history = fit(\n",
    "    model.to(device),\n",
    "    optimizer=torch.optim.Adam(model.parameters(), lr=0.001),\n",
    "    criterion=torch.nn.MSELoss(),\n",
    "    train_loader=dataloader_train,\n",
    "    test_loader=dataloader_test,\n",
    "    num_epochs=10,\n",
    "    # num_epochs=100,\n",
    "    device=device,\n",
    "    ipynb=True,\n",
    ")\n"
   ]
  },
  {
   "cell_type": "code",
   "execution_count": 22,
   "metadata": {},
   "outputs": [
    {
     "name": "stdout",
     "output_type": "stream",
     "text": [
      "初期状態: 損失: 0.72426\n",
      "最終状態: 損失: 0.41696\n"
     ]
    },
    {
     "data": {
      "image/png": "[encoded data removed]",
      "text/plain": [
       "<Figure size 900x800 with 1 Axes>"
      ]
     },
     "metadata": {},
     "output_type": "display_data"
    }
   ],
   "source": [
    "evaluate_history(history)\n"
   ]
  }
 ],
 "metadata": {
  "kernelspec": {
   "display_name": "pytorch39",
   "language": "python",
   "name": "python3"
  },
  "language_info": {
   "codemirror_mode": {
    "name": "ipython",
    "version": 3
   },
   "file_extension": ".py",
   "mimetype": "text/x-python",
   "name": "python",
   "nbconvert_exporter": "python",
   "pygments_lexer": "ipython3",
   "version": "3.9.18"
  }
 },
 "nbformat": 4,
 "nbformat_minor": 2
}

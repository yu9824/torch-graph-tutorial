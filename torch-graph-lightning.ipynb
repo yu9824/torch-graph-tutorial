{
 "cells": [
  {
   "cell_type": "code",
   "execution_count": 1,
   "metadata": {},
   "outputs": [
    {
     "name": "stdout",
     "output_type": "stream",
     "text": [
      "8\n"
     ]
    }
   ],
   "source": [
    "import os\n",
    "\n",
    "# to avoid the following error when using MPS (GPU in ARM architecture)):\n",
    "# NotImplementedError: The operator 'aten::scatter_reduce.two_out'\n",
    "# is not currently implemented for the MPS device. If you want\n",
    "# this op to be added in priority during the prototype phase of\n",
    "# this feature, please comment on\n",
    "# https://github.com/pytorch/pytorch/issues/77764.\n",
    "# As a temporary fix, you can set the environment variable\n",
    "# `PYTORCH_ENABLE_MPS_FALLBACK=1` to use the CPU as\n",
    "# a fallback for this op.\n",
    "# WARNING: this will be slower than running natively on MPS.\n",
    "os.environ[\"PYTORCH_ENABLE_MPS_FALLBACK\"] = \"1\"  # before importing torch\n",
    "\n",
    "print(os.cpu_count())\n"
   ]
  },
  {
   "cell_type": "markdown",
   "metadata": {},
   "source": [
    "\\# TODO\n",
    "\n",
    "- <s>BatchNormalization?</s>\n",
    "- ハイパーパラメータチューニング (optuna?)\n",
    "- <s>モデルの解釈 (tanhやpoolingについて)</s>\n",
    "  - tanh: 活性化関数\n",
    "  - pooling: すべての原子の情報を統合する。原子数が異なるためそれらを揃える役割も。\n",
    "- <s>dropoutの導入？←過学習対策</s>\n",
    "- autumentation?\n",
    "- モデルの途中保存 (エポック毎?)\n",
    "- エッジの重みも学習する (`nn.Parameter`?)\n",
    "- early-stopping\n",
    "- max-poolingの検討\n",
    "- 転移学習 (fine-tuning and feature-extraction)\n",
    "- [GIN層](https://pytorch-geometric.readthedocs.io/en/latest/generated/torch_geometric.nn.conv.GINConv.html#torch_geometric.nn.conv.GINConv)を試してみる"
   ]
  },
  {
   "cell_type": "code",
   "execution_count": 2,
   "metadata": {},
   "outputs": [],
   "source": [
    "import numpy as np\n",
    "import pandas as pd\n",
    "import rdkit\n",
    "from rdkit import Chem\n",
    "from rdkit.Chem import Descriptors\n",
    "import matplotlib.pyplot as plt\n",
    "\n",
    "import torch\n",
    "import torch.utils.data\n",
    "\n",
    "import torch_geometric\n",
    "import torch_geometric.nn\n",
    "import torch_geometric.data\n",
    "import torch_geometric.loader\n",
    "\n",
    "import lightning\n",
    "import lightning.pytorch.loggers\n",
    "import lightning.pytorch.callbacks.early_stopping\n",
    "\n",
    "from torch_utils.data import GraphDataset\n",
    "from torch_utils.model import GCN\n",
    "from torch_utils.torch_utils import (\n",
    "    torch_seed,\n",
    ")\n",
    "from torch_utils.utils import yyplot\n",
    "from torch_utils.lightning_utils import LightningGCN\n"
   ]
  },
  {
   "cell_type": "code",
   "execution_count": 3,
   "metadata": {},
   "outputs": [
    {
     "data": {
      "text/plain": [
       "'2.1.0'"
      ]
     },
     "execution_count": 3,
     "metadata": {},
     "output_type": "execute_result"
    }
   ],
   "source": [
    "torch.__version__\n"
   ]
  },
  {
   "cell_type": "code",
   "execution_count": 4,
   "metadata": {},
   "outputs": [
    {
     "data": {
      "text/plain": [
       "'2.4.0'"
      ]
     },
     "execution_count": 4,
     "metadata": {},
     "output_type": "execute_result"
    }
   ],
   "source": [
    "torch_geometric.__version__\n"
   ]
  },
  {
   "cell_type": "code",
   "execution_count": 5,
   "metadata": {},
   "outputs": [
    {
     "data": {
      "text/plain": [
       "'2023.09.1'"
      ]
     },
     "execution_count": 5,
     "metadata": {},
     "output_type": "execute_result"
    }
   ],
   "source": [
    "rdkit.__version__\n"
   ]
  },
  {
   "cell_type": "code",
   "execution_count": 6,
   "metadata": {},
   "outputs": [],
   "source": [
    "seed = 334\n",
    "batch_size = 256\n",
    "\n",
    "torch_seed(seed)\n"
   ]
  },
  {
   "cell_type": "code",
   "execution_count": 7,
   "metadata": {},
   "outputs": [
    {
     "name": "stdout",
     "output_type": "stream",
     "text": [
      "(1290, 197)\n"
     ]
    },
    {
     "data": {
      "text/html": [
       "<div>\n",
       "<style scoped>\n",
       "    .dataframe tbody tr th:only-of-type {\n",
       "        vertical-align: middle;\n",
       "    }\n",
       "\n",
       "    .dataframe tbody tr th {\n",
       "        vertical-align: top;\n",
       "    }\n",
       "\n",
       "    .dataframe thead th {\n",
       "        text-align: right;\n",
       "    }\n",
       "</style>\n",
       "<table border=\"1\" class=\"dataframe\">\n",
       "  <thead>\n",
       "    <tr style=\"text-align: right;\">\n",
       "      <th></th>\n",
       "      <th>logS</th>\n",
       "      <th>MolWt</th>\n",
       "      <th>HeavyAtomMolWt</th>\n",
       "      <th>ExactMolWt</th>\n",
       "      <th>NumValenceElectrons</th>\n",
       "      <th>NumRadicalElectrons</th>\n",
       "      <th>MaxPartialCharge</th>\n",
       "      <th>MinPartialCharge</th>\n",
       "      <th>MaxAbsPartialCharge</th>\n",
       "      <th>MinAbsPartialCharge</th>\n",
       "      <th>...</th>\n",
       "      <th>fr_sulfide</th>\n",
       "      <th>fr_sulfonamd</th>\n",
       "      <th>fr_sulfone</th>\n",
       "      <th>fr_term_acetylene</th>\n",
       "      <th>fr_tetrazole</th>\n",
       "      <th>fr_thiazole</th>\n",
       "      <th>fr_thiocyan</th>\n",
       "      <th>fr_thiophene</th>\n",
       "      <th>fr_unbrch_alkane</th>\n",
       "      <th>fr_urea</th>\n",
       "    </tr>\n",
       "  </thead>\n",
       "  <tbody>\n",
       "    <tr>\n",
       "      <th>CC(N)=O</th>\n",
       "      <td>1.58</td>\n",
       "      <td>59.068</td>\n",
       "      <td>54.028</td>\n",
       "      <td>59.037114</td>\n",
       "      <td>24</td>\n",
       "      <td>0</td>\n",
       "      <td>0.213790</td>\n",
       "      <td>-0.369921</td>\n",
       "      <td>0.369921</td>\n",
       "      <td>0.213790</td>\n",
       "      <td>...</td>\n",
       "      <td>0</td>\n",
       "      <td>0</td>\n",
       "      <td>0</td>\n",
       "      <td>0</td>\n",
       "      <td>0</td>\n",
       "      <td>0</td>\n",
       "      <td>0</td>\n",
       "      <td>0</td>\n",
       "      <td>0</td>\n",
       "      <td>0</td>\n",
       "    </tr>\n",
       "    <tr>\n",
       "      <th>CNN</th>\n",
       "      <td>1.34</td>\n",
       "      <td>46.073</td>\n",
       "      <td>40.025</td>\n",
       "      <td>46.053098</td>\n",
       "      <td>20</td>\n",
       "      <td>0</td>\n",
       "      <td>-0.001725</td>\n",
       "      <td>-0.271722</td>\n",
       "      <td>0.271722</td>\n",
       "      <td>0.001725</td>\n",
       "      <td>...</td>\n",
       "      <td>0</td>\n",
       "      <td>0</td>\n",
       "      <td>0</td>\n",
       "      <td>0</td>\n",
       "      <td>0</td>\n",
       "      <td>0</td>\n",
       "      <td>0</td>\n",
       "      <td>0</td>\n",
       "      <td>0</td>\n",
       "      <td>0</td>\n",
       "    </tr>\n",
       "    <tr>\n",
       "      <th>CC(=O)O</th>\n",
       "      <td>1.22</td>\n",
       "      <td>60.052</td>\n",
       "      <td>56.020</td>\n",
       "      <td>60.021129</td>\n",
       "      <td>24</td>\n",
       "      <td>0</td>\n",
       "      <td>0.299685</td>\n",
       "      <td>-0.481433</td>\n",
       "      <td>0.481433</td>\n",
       "      <td>0.299685</td>\n",
       "      <td>...</td>\n",
       "      <td>0</td>\n",
       "      <td>0</td>\n",
       "      <td>0</td>\n",
       "      <td>0</td>\n",
       "      <td>0</td>\n",
       "      <td>0</td>\n",
       "      <td>0</td>\n",
       "      <td>0</td>\n",
       "      <td>0</td>\n",
       "      <td>0</td>\n",
       "    </tr>\n",
       "    <tr>\n",
       "      <th>C1CCNC1</th>\n",
       "      <td>1.15</td>\n",
       "      <td>71.123</td>\n",
       "      <td>62.051</td>\n",
       "      <td>71.073499</td>\n",
       "      <td>30</td>\n",
       "      <td>0</td>\n",
       "      <td>-0.004845</td>\n",
       "      <td>-0.316731</td>\n",
       "      <td>0.316731</td>\n",
       "      <td>0.004845</td>\n",
       "      <td>...</td>\n",
       "      <td>0</td>\n",
       "      <td>0</td>\n",
       "      <td>0</td>\n",
       "      <td>0</td>\n",
       "      <td>0</td>\n",
       "      <td>0</td>\n",
       "      <td>0</td>\n",
       "      <td>0</td>\n",
       "      <td>0</td>\n",
       "      <td>0</td>\n",
       "    </tr>\n",
       "    <tr>\n",
       "      <th>NC(=O)NO</th>\n",
       "      <td>1.12</td>\n",
       "      <td>76.055</td>\n",
       "      <td>72.023</td>\n",
       "      <td>76.027277</td>\n",
       "      <td>30</td>\n",
       "      <td>0</td>\n",
       "      <td>0.335391</td>\n",
       "      <td>-0.349891</td>\n",
       "      <td>0.349891</td>\n",
       "      <td>0.335391</td>\n",
       "      <td>...</td>\n",
       "      <td>0</td>\n",
       "      <td>0</td>\n",
       "      <td>0</td>\n",
       "      <td>0</td>\n",
       "      <td>0</td>\n",
       "      <td>0</td>\n",
       "      <td>0</td>\n",
       "      <td>0</td>\n",
       "      <td>0</td>\n",
       "      <td>1</td>\n",
       "    </tr>\n",
       "  </tbody>\n",
       "</table>\n",
       "<p>5 rows × 197 columns</p>\n",
       "</div>"
      ],
      "text/plain": [
       "          logS   MolWt  HeavyAtomMolWt  ExactMolWt  NumValenceElectrons  \\\n",
       "CC(N)=O   1.58  59.068          54.028   59.037114                   24   \n",
       "CNN       1.34  46.073          40.025   46.053098                   20   \n",
       "CC(=O)O   1.22  60.052          56.020   60.021129                   24   \n",
       "C1CCNC1   1.15  71.123          62.051   71.073499                   30   \n",
       "NC(=O)NO  1.12  76.055          72.023   76.027277                   30   \n",
       "\n",
       "          NumRadicalElectrons  MaxPartialCharge  MinPartialCharge  \\\n",
       "CC(N)=O                     0          0.213790         -0.369921   \n",
       "CNN                         0         -0.001725         -0.271722   \n",
       "CC(=O)O                     0          0.299685         -0.481433   \n",
       "C1CCNC1                     0         -0.004845         -0.316731   \n",
       "NC(=O)NO                    0          0.335391         -0.349891   \n",
       "\n",
       "          MaxAbsPartialCharge  MinAbsPartialCharge  ...  fr_sulfide  \\\n",
       "CC(N)=O              0.369921             0.213790  ...           0   \n",
       "CNN                  0.271722             0.001725  ...           0   \n",
       "CC(=O)O              0.481433             0.299685  ...           0   \n",
       "C1CCNC1              0.316731             0.004845  ...           0   \n",
       "NC(=O)NO             0.349891             0.335391  ...           0   \n",
       "\n",
       "          fr_sulfonamd  fr_sulfone  fr_term_acetylene  fr_tetrazole  \\\n",
       "CC(N)=O              0           0                  0             0   \n",
       "CNN                  0           0                  0             0   \n",
       "CC(=O)O              0           0                  0             0   \n",
       "C1CCNC1              0           0                  0             0   \n",
       "NC(=O)NO             0           0                  0             0   \n",
       "\n",
       "          fr_thiazole  fr_thiocyan  fr_thiophene  fr_unbrch_alkane  fr_urea  \n",
       "CC(N)=O             0            0             0                 0        0  \n",
       "CNN                 0            0             0                 0        0  \n",
       "CC(=O)O             0            0             0                 0        0  \n",
       "C1CCNC1             0            0             0                 0        0  \n",
       "NC(=O)NO            0            0             0                 0        1  \n",
       "\n",
       "[5 rows x 197 columns]"
      ]
     },
     "execution_count": 7,
     "metadata": {},
     "output_type": "execute_result"
    }
   ],
   "source": [
    "# df_raw = pd.read_csv(\"./data/curated-solubility-dataset.csv\", index_col=0)\n",
    "df_raw = pd.read_csv(\"./data/logSdataset1290.csv\", index_col=0)\n",
    "# 計算時間短縮\n",
    "# df_raw = df_raw.iloc[:1000]\n",
    "print(df_raw.shape)\n",
    "df_raw.head()\n"
   ]
  },
  {
   "cell_type": "code",
   "execution_count": 8,
   "metadata": {},
   "outputs": [],
   "source": [
    "# smiles = df_raw[\"SMILES\"]\n",
    "# y = df_raw[\"Solubility\"]\n",
    "smiles = df_raw.index\n",
    "y = df_raw[\"logS\"]\n"
   ]
  },
  {
   "cell_type": "code",
   "execution_count": 9,
   "metadata": {},
   "outputs": [],
   "source": [
    "# scaling\n",
    "y_mean = y.mean()\n",
    "y_std = y.std(ddof=1)\n"
   ]
  },
  {
   "cell_type": "code",
   "execution_count": 10,
   "metadata": {},
   "outputs": [],
   "source": [
    "smiles = smiles.tolist()\n",
    "y = torch.Tensor(((y - y_mean) / y_std).tolist()).view(-1, 1)\n"
   ]
  },
  {
   "cell_type": "code",
   "execution_count": 11,
   "metadata": {},
   "outputs": [],
   "source": [
    "mols = map(Chem.MolFromSmiles, smiles)\n"
   ]
  },
  {
   "cell_type": "code",
   "execution_count": 12,
   "metadata": {},
   "outputs": [
    {
     "data": {
      "application/vnd.jupyter.widget-view+json": {
       "model_id": "2a9fa4c8e06e4184b501a95cbe4e0fd5",
       "version_major": 2,
       "version_minor": 0
      },
      "text/plain": [
       "  0%|          | 0/1290 [00:00<?, ?it/s]"
      ]
     },
     "metadata": {},
     "output_type": "display_data"
    },
    {
     "data": {
      "text/plain": [
       "GraphDataset(size=1290)"
      ]
     },
     "execution_count": 12,
     "metadata": {},
     "output_type": "execute_result"
    }
   ],
   "source": [
    "dataset = GraphDataset(mols, y, n_jobs=-1, ipynb=True)\n",
    "dataset\n"
   ]
  },
  {
   "cell_type": "code",
   "execution_count": 13,
   "metadata": {},
   "outputs": [
    {
     "data": {
      "text/plain": [
       "<torch_geometric.loader.dataloader.DataLoader at 0x28f72fc40>"
      ]
     },
     "execution_count": 13,
     "metadata": {},
     "output_type": "execute_result"
    }
   ],
   "source": [
    "# dataloader = torch.utils.data.DataLoader(dataset, batch_size=32, shuffle=True)\n",
    "dataloader = torch_geometric.loader.DataLoader(\n",
    "    dataset, batch_size=batch_size, shuffle=True\n",
    ")\n",
    "# the following is deprecated\n",
    "# dataloader = torch_geometric.data.DataLoader(\n",
    "#     dataset, batch_size=batch_size, shuffle=True\n",
    "# )\n",
    "dataloader\n"
   ]
  },
  {
   "cell_type": "code",
   "execution_count": 14,
   "metadata": {},
   "outputs": [
    {
     "name": "stdout",
     "output_type": "stream",
     "text": [
      "1032 129 129\n"
     ]
    }
   ],
   "source": [
    "dataset_train, dataset_test, dataset_val = torch.utils.data.random_split(\n",
    "    dataset, [0.8, 0.1, 0.1], torch.Generator().manual_seed(seed)\n",
    ")\n",
    "print(len(dataset_train), len(dataset_val), len(dataset_test))\n"
   ]
  },
  {
   "cell_type": "code",
   "execution_count": 15,
   "metadata": {},
   "outputs": [],
   "source": [
    "dataloader_train = torch_geometric.loader.DataLoader(\n",
    "    dataset_train, batch_size=batch_size, shuffle=True\n",
    ")\n",
    "dataloader_val = torch_geometric.loader.DataLoader(\n",
    "    dataset_val, batch_size=batch_size, shuffle=False\n",
    ")\n",
    "dataloader_test = torch_geometric.loader.DataLoader(\n",
    "    dataset_test, batch_size=batch_size, shuffle=False\n",
    ")\n"
   ]
  },
  {
   "cell_type": "code",
   "execution_count": 16,
   "metadata": {},
   "outputs": [],
   "source": [
    "data = dataset_train[0]\n",
    "num_features = data.x.shape[1]\n"
   ]
  },
  {
   "cell_type": "code",
   "execution_count": 17,
   "metadata": {},
   "outputs": [
    {
     "name": "stdout",
     "output_type": "stream",
     "text": [
      "GCN(\n",
      "  (initial_conv): GCNConv(30, 64)\n",
      "  (batch_norm0): BatchNorm(64)\n",
      "  (conv1): GCNConv(64, 64)\n",
      "  (batch_norm1): BatchNorm(64)\n",
      "  (conv2): GCNConv(64, 64)\n",
      "  (conv3): GCNConv(64, 64)\n",
      "  (dropout): Dropout(p=0.05, inplace=False)\n",
      "  (relu): LeakyReLU(negative_slope=0.01)\n",
      "  (fc): Linear(in_features=128, out_features=1, bias=True)\n",
      ")\n"
     ]
    }
   ],
   "source": [
    "model = GCN(in_channels=num_features, embedding_size=64)\n",
    "print(model)\n"
   ]
  },
  {
   "cell_type": "code",
   "execution_count": 18,
   "metadata": {},
   "outputs": [
    {
     "name": "stdout",
     "output_type": "stream",
     "text": [
      "+----------------------------+---------------+----------------+----------+\n",
      "| Layer                      | Input Shape   | Output Shape   | #Param   |\n",
      "|----------------------------+---------------+----------------+----------|\n",
      "| GCN                        | [28, 28]      | [1, 1]         | 14,849   |\n",
      "| ├─(initial_conv)GCNConv    |               | [28, 64]       | 1,984    |\n",
      "| ├─(batch_norm0)BatchNorm   | [28, 64]      | [28, 64]       | 128      |\n",
      "| │    └─(module)BatchNorm1d | [28, 64]      | [28, 64]       | 128      |\n",
      "| ├─(conv1)GCNConv           |               | [28, 64]       | 4,160    |\n",
      "| ├─(batch_norm1)BatchNorm   | [28, 64]      | [28, 64]       | 128      |\n",
      "| │    └─(module)BatchNorm1d | [28, 64]      | [28, 64]       | 128      |\n",
      "| ├─(conv2)GCNConv           |               | [28, 64]       | 4,160    |\n",
      "| ├─(conv3)GCNConv           |               | [28, 64]       | 4,160    |\n",
      "| ├─(dropout)Dropout         | [28, 64]      | [28, 64]       | --       |\n",
      "| ├─(relu)LeakyReLU          | [28, 64]      | [28, 64]       | --       |\n",
      "| ├─(fc)Linear               | [1, 128]      | [1, 1]         | 129      |\n",
      "+----------------------------+---------------+----------------+----------+\n"
     ]
    }
   ],
   "source": [
    "# Need 'tabulate' package\n",
    "print(torch_geometric.nn.summary(model, data))\n"
   ]
  },
  {
   "cell_type": "code",
   "execution_count": 19,
   "metadata": {},
   "outputs": [
    {
     "data": {
      "text/plain": [
       "device(type='mps')"
      ]
     },
     "execution_count": 19,
     "metadata": {},
     "output_type": "execute_result"
    }
   ],
   "source": [
    "device = torch.device(\"mps\" if torch.backends.mps.is_available() else \"cpu\")\n",
    "device\n"
   ]
  },
  {
   "cell_type": "code",
   "execution_count": 20,
   "metadata": {},
   "outputs": [],
   "source": [
    "model_lightning = LightningGCN(\n",
    "    model,\n",
    "    optimizer=torch.optim.Adam(model.parameters(), lr=0.001),\n",
    "    criterion=torch.nn.MSELoss(),\n",
    ")\n"
   ]
  },
  {
   "cell_type": "code",
   "execution_count": 21,
   "metadata": {},
   "outputs": [],
   "source": [
    "early_stopping = lightning.pytorch.callbacks.early_stopping.EarlyStopping(\n",
    "    monitor=\"val_loss\", patience=5, min_delta=0, mode=\"min\"\n",
    ")\n"
   ]
  },
  {
   "cell_type": "code",
   "execution_count": 22,
   "metadata": {},
   "outputs": [
    {
     "name": "stderr",
     "output_type": "stream",
     "text": [
      "GPU available: True (mps), used: True\n",
      "TPU available: False, using: 0 TPU cores\n",
      "IPU available: False, using: 0 IPUs\n",
      "HPU available: False, using: 0 HPUs\n",
      "\n",
      "  | Name      | Type    | Params\n",
      "--------------------------------------\n",
      "0 | net       | GCN     | 14.8 K\n",
      "1 | criterion | MSELoss | 0     \n",
      "--------------------------------------\n",
      "14.8 K    Trainable params\n",
      "0         Non-trainable params\n",
      "14.8 K    Total params\n",
      "0.059     Total estimated model params size (MB)\n"
     ]
    },
    {
     "data": {
      "application/vnd.jupyter.widget-view+json": {
       "model_id": "27fab02435174ac09e57149cef85f823",
       "version_major": 2,
       "version_minor": 0
      },
      "text/plain": [
       "Sanity Checking: |          | 0/? [00:00<?, ?it/s]"
      ]
     },
     "metadata": {},
     "output_type": "display_data"
    },
    {
     "name": "stderr",
     "output_type": "stream",
     "text": [
      "/Users/yu9824/miniforge3/envs/torch39/lib/python3.9/site-packages/lightning/pytorch/trainer/connectors/data_connector.py:441: The 'val_dataloader' does not have many workers which may be a bottleneck. Consider increasing the value of the `num_workers` argument` to `num_workers=7` in the `DataLoader` to improve performance.\n",
      "/Users/yu9824/miniforge3/envs/torch39/lib/python3.9/site-packages/torch_geometric/utils/scatter.py:94: UserWarning: The operator 'aten::scatter_reduce.two_out' is not currently supported on the MPS backend and will fall back to run on the CPU. This may have performance implications. (Triggered internally at /Users/runner/work/_temp/anaconda/conda-bld/pytorch_1695391825142/work/aten/src/ATen/mps/MPSFallback.mm:13.)\n",
      "  return src.new_zeros(size).scatter_reduce_(\n",
      "/Users/yu9824/miniforge3/envs/torch39/lib/python3.9/site-packages/lightning/pytorch/trainer/connectors/data_connector.py:441: The 'train_dataloader' does not have many workers which may be a bottleneck. Consider increasing the value of the `num_workers` argument` to `num_workers=7` in the `DataLoader` to improve performance.\n",
      "/Users/yu9824/miniforge3/envs/torch39/lib/python3.9/site-packages/lightning/pytorch/loops/fit_loop.py:293: The number of training batches (5) is smaller than the logging interval Trainer(log_every_n_steps=50). Set a lower value for log_every_n_steps if you want to see logs for the training epoch.\n"
     ]
    },
    {
     "data": {
      "application/vnd.jupyter.widget-view+json": {
       "model_id": "01860117201c4990b2cadb028ef836bf",
       "version_major": 2,
       "version_minor": 0
      },
      "text/plain": [
       "Training: |          | 0/? [00:00<?, ?it/s]"
      ]
     },
     "metadata": {},
     "output_type": "display_data"
    },
    {
     "data": {
      "application/vnd.jupyter.widget-view+json": {
       "model_id": "48daa8fa86d749d89df6dfa53c56f63d",
       "version_major": 2,
       "version_minor": 0
      },
      "text/plain": [
       "Validation: |          | 0/? [00:00<?, ?it/s]"
      ]
     },
     "metadata": {},
     "output_type": "display_data"
    },
    {
     "data": {
      "application/vnd.jupyter.widget-view+json": {
       "model_id": "0c7fedfee1c0403ea5c820e5df239ebe",
       "version_major": 2,
       "version_minor": 0
      },
      "text/plain": [
       "Validation: |          | 0/? [00:00<?, ?it/s]"
      ]
     },
     "metadata": {},
     "output_type": "display_data"
    },
    {
     "data": {
      "application/vnd.jupyter.widget-view+json": {
       "model_id": "4aa0788a833646eab652a34d45a87cd1",
       "version_major": 2,
       "version_minor": 0
      },
      "text/plain": [
       "Validation: |          | 0/? [00:00<?, ?it/s]"
      ]
     },
     "metadata": {},
     "output_type": "display_data"
    },
    {
     "data": {
      "application/vnd.jupyter.widget-view+json": {
       "model_id": "ecf1b183c20d4b28b8150967c0df8d1b",
       "version_major": 2,
       "version_minor": 0
      },
      "text/plain": [
       "Validation: |          | 0/? [00:00<?, ?it/s]"
      ]
     },
     "metadata": {},
     "output_type": "display_data"
    },
    {
     "data": {
      "application/vnd.jupyter.widget-view+json": {
       "model_id": "c349d001bc0940c9b8b04941a8f9c17f",
       "version_major": 2,
       "version_minor": 0
      },
      "text/plain": [
       "Validation: |          | 0/? [00:00<?, ?it/s]"
      ]
     },
     "metadata": {},
     "output_type": "display_data"
    },
    {
     "data": {
      "application/vnd.jupyter.widget-view+json": {
       "model_id": "360ee07b110d4970aea27727380587ce",
       "version_major": 2,
       "version_minor": 0
      },
      "text/plain": [
       "Validation: |          | 0/? [00:00<?, ?it/s]"
      ]
     },
     "metadata": {},
     "output_type": "display_data"
    },
    {
     "data": {
      "application/vnd.jupyter.widget-view+json": {
       "model_id": "25579c0e64244394bfe9744dac19ef88",
       "version_major": 2,
       "version_minor": 0
      },
      "text/plain": [
       "Validation: |          | 0/? [00:00<?, ?it/s]"
      ]
     },
     "metadata": {},
     "output_type": "display_data"
    },
    {
     "data": {
      "application/vnd.jupyter.widget-view+json": {
       "model_id": "e037c587e95a4e829dff93e0d37f9a84",
       "version_major": 2,
       "version_minor": 0
      },
      "text/plain": [
       "Validation: |          | 0/? [00:00<?, ?it/s]"
      ]
     },
     "metadata": {},
     "output_type": "display_data"
    },
    {
     "data": {
      "application/vnd.jupyter.widget-view+json": {
       "model_id": "0d272b596c8c4b5dba9b958dd522d277",
       "version_major": 2,
       "version_minor": 0
      },
      "text/plain": [
       "Validation: |          | 0/? [00:00<?, ?it/s]"
      ]
     },
     "metadata": {},
     "output_type": "display_data"
    },
    {
     "data": {
      "application/vnd.jupyter.widget-view+json": {
       "model_id": "ad7401fb388646cd8b90b9457e8dca55",
       "version_major": 2,
       "version_minor": 0
      },
      "text/plain": [
       "Validation: |          | 0/? [00:00<?, ?it/s]"
      ]
     },
     "metadata": {},
     "output_type": "display_data"
    },
    {
     "data": {
      "application/vnd.jupyter.widget-view+json": {
       "model_id": "cdf952149ef54fdbb04f0e5c26889f0b",
       "version_major": 2,
       "version_minor": 0
      },
      "text/plain": [
       "Validation: |          | 0/? [00:00<?, ?it/s]"
      ]
     },
     "metadata": {},
     "output_type": "display_data"
    },
    {
     "data": {
      "application/vnd.jupyter.widget-view+json": {
       "model_id": "49472067f13d4ee79376c7d1ddc49a9f",
       "version_major": 2,
       "version_minor": 0
      },
      "text/plain": [
       "Validation: |          | 0/? [00:00<?, ?it/s]"
      ]
     },
     "metadata": {},
     "output_type": "display_data"
    },
    {
     "data": {
      "application/vnd.jupyter.widget-view+json": {
       "model_id": "8280e83fb351420383cf56e4cf23f3da",
       "version_major": 2,
       "version_minor": 0
      },
      "text/plain": [
       "Validation: |          | 0/? [00:00<?, ?it/s]"
      ]
     },
     "metadata": {},
     "output_type": "display_data"
    },
    {
     "data": {
      "application/vnd.jupyter.widget-view+json": {
       "model_id": "80665ab829e74e13a86ac6f5552d5e7c",
       "version_major": 2,
       "version_minor": 0
      },
      "text/plain": [
       "Validation: |          | 0/? [00:00<?, ?it/s]"
      ]
     },
     "metadata": {},
     "output_type": "display_data"
    },
    {
     "data": {
      "application/vnd.jupyter.widget-view+json": {
       "model_id": "3df576d0dbaf4c738ec0806375cbcaf3",
       "version_major": 2,
       "version_minor": 0
      },
      "text/plain": [
       "Validation: |          | 0/? [00:00<?, ?it/s]"
      ]
     },
     "metadata": {},
     "output_type": "display_data"
    },
    {
     "data": {
      "application/vnd.jupyter.widget-view+json": {
       "model_id": "22f17927bc45415aa73bb081bbcfdc35",
       "version_major": 2,
       "version_minor": 0
      },
      "text/plain": [
       "Validation: |          | 0/? [00:00<?, ?it/s]"
      ]
     },
     "metadata": {},
     "output_type": "display_data"
    },
    {
     "data": {
      "application/vnd.jupyter.widget-view+json": {
       "model_id": "79114c7028e34a688823009de48e6c77",
       "version_major": 2,
       "version_minor": 0
      },
      "text/plain": [
       "Validation: |          | 0/? [00:00<?, ?it/s]"
      ]
     },
     "metadata": {},
     "output_type": "display_data"
    },
    {
     "data": {
      "application/vnd.jupyter.widget-view+json": {
       "model_id": "2c84497b79f94825a113a2d73b70038b",
       "version_major": 2,
       "version_minor": 0
      },
      "text/plain": [
       "Validation: |          | 0/? [00:00<?, ?it/s]"
      ]
     },
     "metadata": {},
     "output_type": "display_data"
    },
    {
     "data": {
      "application/vnd.jupyter.widget-view+json": {
       "model_id": "4dac1585fb14490abe01a53c121840eb",
       "version_major": 2,
       "version_minor": 0
      },
      "text/plain": [
       "Validation: |          | 0/? [00:00<?, ?it/s]"
      ]
     },
     "metadata": {},
     "output_type": "display_data"
    },
    {
     "data": {
      "application/vnd.jupyter.widget-view+json": {
       "model_id": "2d370fa997e544ee95a6bf1e90c733e6",
       "version_major": 2,
       "version_minor": 0
      },
      "text/plain": [
       "Validation: |          | 0/? [00:00<?, ?it/s]"
      ]
     },
     "metadata": {},
     "output_type": "display_data"
    },
    {
     "data": {
      "application/vnd.jupyter.widget-view+json": {
       "model_id": "6e096ecd13b246e180fb21689ca92877",
       "version_major": 2,
       "version_minor": 0
      },
      "text/plain": [
       "Validation: |          | 0/? [00:00<?, ?it/s]"
      ]
     },
     "metadata": {},
     "output_type": "display_data"
    },
    {
     "data": {
      "application/vnd.jupyter.widget-view+json": {
       "model_id": "40d49f548f9448fead0d45faec76c182",
       "version_major": 2,
       "version_minor": 0
      },
      "text/plain": [
       "Validation: |          | 0/? [00:00<?, ?it/s]"
      ]
     },
     "metadata": {},
     "output_type": "display_data"
    },
    {
     "data": {
      "application/vnd.jupyter.widget-view+json": {
       "model_id": "337becd3dd9c4dbb843085bdfe3aebc9",
       "version_major": 2,
       "version_minor": 0
      },
      "text/plain": [
       "Validation: |          | 0/? [00:00<?, ?it/s]"
      ]
     },
     "metadata": {},
     "output_type": "display_data"
    },
    {
     "data": {
      "application/vnd.jupyter.widget-view+json": {
       "model_id": "611144b6fb884ea787eb97583677c4cc",
       "version_major": 2,
       "version_minor": 0
      },
      "text/plain": [
       "Validation: |          | 0/? [00:00<?, ?it/s]"
      ]
     },
     "metadata": {},
     "output_type": "display_data"
    },
    {
     "data": {
      "application/vnd.jupyter.widget-view+json": {
       "model_id": "ee040c8ef76e4e8c869ef8ecd8c8c7ac",
       "version_major": 2,
       "version_minor": 0
      },
      "text/plain": [
       "Validation: |          | 0/? [00:00<?, ?it/s]"
      ]
     },
     "metadata": {},
     "output_type": "display_data"
    },
    {
     "data": {
      "application/vnd.jupyter.widget-view+json": {
       "model_id": "40902e14134a4c25a60c5380832acbd2",
       "version_major": 2,
       "version_minor": 0
      },
      "text/plain": [
       "Validation: |          | 0/? [00:00<?, ?it/s]"
      ]
     },
     "metadata": {},
     "output_type": "display_data"
    },
    {
     "data": {
      "application/vnd.jupyter.widget-view+json": {
       "model_id": "53a94fdae89c49bcad914387f8a1f5d1",
       "version_major": 2,
       "version_minor": 0
      },
      "text/plain": [
       "Validation: |          | 0/? [00:00<?, ?it/s]"
      ]
     },
     "metadata": {},
     "output_type": "display_data"
    },
    {
     "data": {
      "application/vnd.jupyter.widget-view+json": {
       "model_id": "adae389e7312438ca5d78563c3d29079",
       "version_major": 2,
       "version_minor": 0
      },
      "text/plain": [
       "Validation: |          | 0/? [00:00<?, ?it/s]"
      ]
     },
     "metadata": {},
     "output_type": "display_data"
    },
    {
     "data": {
      "application/vnd.jupyter.widget-view+json": {
       "model_id": "d703226b859647048f394112775608a5",
       "version_major": 2,
       "version_minor": 0
      },
      "text/plain": [
       "Validation: |          | 0/? [00:00<?, ?it/s]"
      ]
     },
     "metadata": {},
     "output_type": "display_data"
    }
   ],
   "source": [
    "trainer = lightning.Trainer(\n",
    "    accelerator=\"auto\",\n",
    "    max_epochs=100,\n",
    "    callbacks=[early_stopping],\n",
    "    logger=(\n",
    "        lightning.pytorch.loggers.TensorBoardLogger(\n",
    "            save_dir=\"logs\", name=\"gcn_tb\"\n",
    "        ),\n",
    "        lightning.pytorch.loggers.CSVLogger(save_dir=\"logs\", name=\"gcn_csv\"),\n",
    "    ),\n",
    ")\n",
    "trainer.fit(model_lightning, dataloader_train, dataloader_val)\n"
   ]
  },
  {
   "cell_type": "code",
   "execution_count": 23,
   "metadata": {},
   "outputs": [
    {
     "name": "stderr",
     "output_type": "stream",
     "text": [
      "/Users/yu9824/miniforge3/envs/torch39/lib/python3.9/site-packages/lightning/pytorch/trainer/connectors/data_connector.py:441: The 'test_dataloader' does not have many workers which may be a bottleneck. Consider increasing the value of the `num_workers` argument` to `num_workers=7` in the `DataLoader` to improve performance.\n"
     ]
    },
    {
     "data": {
      "application/vnd.jupyter.widget-view+json": {
       "model_id": "a17c4bdd4ab4412bb64b01fa6c2c20d3",
       "version_major": 2,
       "version_minor": 0
      },
      "text/plain": [
       "Testing: |          | 0/? [00:00<?, ?it/s]"
      ]
     },
     "metadata": {},
     "output_type": "display_data"
    },
    {
     "data": {
      "text/html": [
       "<pre style=\"white-space:pre;overflow-x:auto;line-height:normal;font-family:Menlo,'DejaVu Sans Mono',consolas,'Courier New',monospace\">┏━━━━━━━━━━━━━━━━━━━━━━━━━━━┳━━━━━━━━━━━━━━━━━━━━━━━━━━━┓\n",
       "┃<span style=\"font-weight: bold\">        Test metric        </span>┃<span style=\"font-weight: bold\">       DataLoader 0        </span>┃\n",
       "┡━━━━━━━━━━━━━━━━━━━━━━━━━━━╇━━━━━━━━━━━━━━━━━━━━━━━━━━━┩\n",
       "│<span style=\"color: #008080; text-decoration-color: #008080\">         test_loss         </span>│<span style=\"color: #800080; text-decoration-color: #800080\">    0.15802471339702606    </span>│\n",
       "└───────────────────────────┴───────────────────────────┘\n",
       "</pre>\n"
      ],
      "text/plain": [
       "┏━━━━━━━━━━━━━━━━━━━━━━━━━━━┳━━━━━━━━━━━━━━━━━━━━━━━━━━━┓\n",
       "┃\u001b[1m \u001b[0m\u001b[1m       Test metric       \u001b[0m\u001b[1m \u001b[0m┃\u001b[1m \u001b[0m\u001b[1m      DataLoader 0       \u001b[0m\u001b[1m \u001b[0m┃\n",
       "┡━━━━━━━━━━━━━━━━━━━━━━━━━━━╇━━━━━━━━━━━━━━━━━━━━━━━━━━━┩\n",
       "│\u001b[36m \u001b[0m\u001b[36m        test_loss        \u001b[0m\u001b[36m \u001b[0m│\u001b[35m \u001b[0m\u001b[35m   0.15802471339702606   \u001b[0m\u001b[35m \u001b[0m│\n",
       "└───────────────────────────┴───────────────────────────┘\n"
      ]
     },
     "metadata": {},
     "output_type": "display_data"
    },
    {
     "data": {
      "text/plain": [
       "[{'test_loss': 0.15802471339702606}]"
      ]
     },
     "execution_count": 23,
     "metadata": {},
     "output_type": "execute_result"
    }
   ],
   "source": [
    "trainer.test(model_lightning, dataloader_test)\n"
   ]
  },
  {
   "cell_type": "code",
   "execution_count": 24,
   "metadata": {},
   "outputs": [
    {
     "name": "stderr",
     "output_type": "stream",
     "text": [
      "/Users/yu9824/miniforge3/envs/torch39/lib/python3.9/site-packages/lightning/pytorch/trainer/connectors/data_connector.py:492: Your `predict_dataloader`'s sampler has shuffling enabled, it is strongly recommended that you turn shuffling off for val/test dataloaders.\n",
      "/Users/yu9824/miniforge3/envs/torch39/lib/python3.9/site-packages/lightning/pytorch/trainer/connectors/data_connector.py:441: The 'predict_dataloader' does not have many workers which may be a bottleneck. Consider increasing the value of the `num_workers` argument` to `num_workers=7` in the `DataLoader` to improve performance.\n"
     ]
    },
    {
     "data": {
      "application/vnd.jupyter.widget-view+json": {
       "model_id": "6730486ccb664155955c37d86d46259e",
       "version_major": 2,
       "version_minor": 0
      },
      "text/plain": [
       "Predicting: |          | 0/? [00:00<?, ?it/s]"
      ]
     },
     "metadata": {},
     "output_type": "display_data"
    },
    {
     "data": {
      "text/plain": [
       "torch.Size([1032, 1])"
      ]
     },
     "execution_count": 24,
     "metadata": {},
     "output_type": "execute_result"
    }
   ],
   "source": [
    "y_pred_train_scaled: torch.Tensor = torch.cat(\n",
    "    trainer.predict(model_lightning, dataloader_train), dim=0\n",
    ")\n",
    "y_pred_train_scaled.shape\n"
   ]
  },
  {
   "cell_type": "code",
   "execution_count": 25,
   "metadata": {},
   "outputs": [
    {
     "data": {
      "application/vnd.jupyter.widget-view+json": {
       "model_id": "f456814cd382480faa6fd117250ba6e0",
       "version_major": 2,
       "version_minor": 0
      },
      "text/plain": [
       "Predicting: |          | 0/? [00:00<?, ?it/s]"
      ]
     },
     "metadata": {},
     "output_type": "display_data"
    },
    {
     "data": {
      "text/plain": [
       "torch.Size([129, 1])"
      ]
     },
     "execution_count": 25,
     "metadata": {},
     "output_type": "execute_result"
    }
   ],
   "source": [
    "y_pred_val_scaled: torch.Tensor = torch.cat(\n",
    "    trainer.predict(model_lightning, dataloader_val), dim=0\n",
    ")\n",
    "y_pred_val_scaled.shape\n"
   ]
  },
  {
   "cell_type": "code",
   "execution_count": 26,
   "metadata": {},
   "outputs": [
    {
     "data": {
      "application/vnd.jupyter.widget-view+json": {
       "model_id": "33d22a9ab1cf4b05829c54a0ea71ea5a",
       "version_major": 2,
       "version_minor": 0
      },
      "text/plain": [
       "Predicting: |          | 0/? [00:00<?, ?it/s]"
      ]
     },
     "metadata": {},
     "output_type": "display_data"
    },
    {
     "data": {
      "text/plain": [
       "torch.Size([129, 1])"
      ]
     },
     "execution_count": 26,
     "metadata": {},
     "output_type": "execute_result"
    }
   ],
   "source": [
    "y_pred_test_scaled: torch.Tensor = torch.cat(\n",
    "    trainer.predict(model_lightning, dataloader_test), dim=0\n",
    ")\n",
    "y_pred_test_scaled.shape\n"
   ]
  },
  {
   "cell_type": "code",
   "execution_count": 27,
   "metadata": {},
   "outputs": [
    {
     "data": {
      "text/html": [
       "<div>\n",
       "<style scoped>\n",
       "    .dataframe tbody tr th:only-of-type {\n",
       "        vertical-align: middle;\n",
       "    }\n",
       "\n",
       "    .dataframe tbody tr th {\n",
       "        vertical-align: top;\n",
       "    }\n",
       "\n",
       "    .dataframe thead th {\n",
       "        text-align: right;\n",
       "    }\n",
       "</style>\n",
       "<table border=\"1\" class=\"dataframe\">\n",
       "  <thead>\n",
       "    <tr style=\"text-align: right;\">\n",
       "      <th></th>\n",
       "      <th>val_loss</th>\n",
       "      <th>epoch</th>\n",
       "      <th>step</th>\n",
       "      <th>train_loss</th>\n",
       "      <th>test_loss</th>\n",
       "    </tr>\n",
       "  </thead>\n",
       "  <tbody>\n",
       "    <tr>\n",
       "      <th>0</th>\n",
       "      <td>1.040781</td>\n",
       "      <td>0</td>\n",
       "      <td>4</td>\n",
       "      <td>NaN</td>\n",
       "      <td>NaN</td>\n",
       "    </tr>\n",
       "    <tr>\n",
       "      <th>1</th>\n",
       "      <td>NaN</td>\n",
       "      <td>0</td>\n",
       "      <td>4</td>\n",
       "      <td>0.967006</td>\n",
       "      <td>NaN</td>\n",
       "    </tr>\n",
       "    <tr>\n",
       "      <th>2</th>\n",
       "      <td>1.023537</td>\n",
       "      <td>1</td>\n",
       "      <td>9</td>\n",
       "      <td>NaN</td>\n",
       "      <td>NaN</td>\n",
       "    </tr>\n",
       "    <tr>\n",
       "      <th>3</th>\n",
       "      <td>NaN</td>\n",
       "      <td>1</td>\n",
       "      <td>9</td>\n",
       "      <td>0.789199</td>\n",
       "      <td>NaN</td>\n",
       "    </tr>\n",
       "    <tr>\n",
       "      <th>4</th>\n",
       "      <td>0.983330</td>\n",
       "      <td>2</td>\n",
       "      <td>14</td>\n",
       "      <td>NaN</td>\n",
       "      <td>NaN</td>\n",
       "    </tr>\n",
       "  </tbody>\n",
       "</table>\n",
       "</div>"
      ],
      "text/plain": [
       "   val_loss  epoch  step  train_loss  test_loss\n",
       "0  1.040781      0     4         NaN        NaN\n",
       "1       NaN      0     4    0.967006        NaN\n",
       "2  1.023537      1     9         NaN        NaN\n",
       "3       NaN      1     9    0.789199        NaN\n",
       "4  0.983330      2    14         NaN        NaN"
      ]
     },
     "execution_count": 27,
     "metadata": {},
     "output_type": "execute_result"
    }
   ],
   "source": [
    "df_history = pd.read_csv(\n",
    "    os.path.join(trainer.loggers[1].log_dir, \"metrics.csv\")\n",
    ")\n",
    "df_history.head()\n"
   ]
  },
  {
   "cell_type": "code",
   "execution_count": 28,
   "metadata": {},
   "outputs": [
    {
     "data": {
      "text/html": [
       "<div>\n",
       "<style scoped>\n",
       "    .dataframe tbody tr th:only-of-type {\n",
       "        vertical-align: middle;\n",
       "    }\n",
       "\n",
       "    .dataframe tbody tr th {\n",
       "        vertical-align: top;\n",
       "    }\n",
       "\n",
       "    .dataframe thead th {\n",
       "        text-align: right;\n",
       "    }\n",
       "</style>\n",
       "<table border=\"1\" class=\"dataframe\">\n",
       "  <thead>\n",
       "    <tr style=\"text-align: right;\">\n",
       "      <th></th>\n",
       "      <th>epoch</th>\n",
       "      <th>val_loss</th>\n",
       "      <th>step</th>\n",
       "      <th>train_loss</th>\n",
       "      <th>test_loss</th>\n",
       "    </tr>\n",
       "  </thead>\n",
       "  <tbody>\n",
       "    <tr>\n",
       "      <th>0</th>\n",
       "      <td>0</td>\n",
       "      <td>1.040781</td>\n",
       "      <td>4.0</td>\n",
       "      <td>0.967006</td>\n",
       "      <td>NaN</td>\n",
       "    </tr>\n",
       "    <tr>\n",
       "      <th>1</th>\n",
       "      <td>1</td>\n",
       "      <td>1.023537</td>\n",
       "      <td>9.0</td>\n",
       "      <td>0.789199</td>\n",
       "      <td>NaN</td>\n",
       "    </tr>\n",
       "    <tr>\n",
       "      <th>2</th>\n",
       "      <td>2</td>\n",
       "      <td>0.983330</td>\n",
       "      <td>14.0</td>\n",
       "      <td>0.678777</td>\n",
       "      <td>NaN</td>\n",
       "    </tr>\n",
       "    <tr>\n",
       "      <th>3</th>\n",
       "      <td>3</td>\n",
       "      <td>0.908758</td>\n",
       "      <td>19.0</td>\n",
       "      <td>0.581030</td>\n",
       "      <td>NaN</td>\n",
       "    </tr>\n",
       "    <tr>\n",
       "      <th>4</th>\n",
       "      <td>4</td>\n",
       "      <td>0.820358</td>\n",
       "      <td>24.0</td>\n",
       "      <td>0.494654</td>\n",
       "      <td>NaN</td>\n",
       "    </tr>\n",
       "  </tbody>\n",
       "</table>\n",
       "</div>"
      ],
      "text/plain": [
       "   epoch  val_loss  step  train_loss  test_loss\n",
       "0      0  1.040781   4.0    0.967006        NaN\n",
       "1      1  1.023537   9.0    0.789199        NaN\n",
       "2      2  0.983330  14.0    0.678777        NaN\n",
       "3      3  0.908758  19.0    0.581030        NaN\n",
       "4      4  0.820358  24.0    0.494654        NaN"
      ]
     },
     "execution_count": 28,
     "metadata": {},
     "output_type": "execute_result"
    }
   ],
   "source": [
    "df_history = df_history.groupby(\"epoch\").mean().reset_index()\n",
    "df_history.head()\n"
   ]
  },
  {
   "cell_type": "code",
   "execution_count": 30,
   "metadata": {},
   "outputs": [
    {
     "data": {
      "image/png": "[encoded data removed]",
      "text/plain": [
       "<Figure size 640x480 with 1 Axes>"
      ]
     },
     "metadata": {},
     "output_type": "display_data"
    }
   ],
   "source": [
    "fig, ax = plt.subplots(facecolor=\"w\")\n",
    "ax.plot(df_history[\"epoch\"], df_history[\"train_loss\"], label=\"train\")\n",
    "ax.plot(df_history[\"epoch\"], df_history[\"val_loss\"], label=\"val\")\n",
    "ax.set_xlabel(\"epoch\")\n",
    "ax.set_ylabel(\"loss\")\n",
    "ax.legend()\n",
    "fig.tight_layout()\n"
   ]
  }
 ],
 "metadata": {
  "kernelspec": {
   "display_name": "pytorch39",
   "language": "python",
   "name": "python3"
  },
  "language_info": {
   "codemirror_mode": {
    "name": "ipython",
    "version": 3
   },
   "file_extension": ".py",
   "mimetype": "text/x-python",
   "name": "python",
   "nbconvert_exporter": "python",
   "pygments_lexer": "ipython3",
   "version": "3.9.18"
  }
 },
 "nbformat": 4,
 "nbformat_minor": 2
}
